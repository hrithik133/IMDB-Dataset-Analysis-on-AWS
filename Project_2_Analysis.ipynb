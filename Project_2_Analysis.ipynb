{
 "cells": [
  {
   "cell_type": "markdown",
   "id": "6b534939-49b5-4e8b-aff1-df647b85344c",
   "metadata": {
    "tags": []
   },
   "source": [
    "# **Analysis of IMDB Data**"
   ]
  },
  {
   "cell_type": "markdown",
   "id": "7e8b839d-a8bb-4fd1-b798-ee42afa1ac60",
   "metadata": {},
   "source": [
    "We will analyze a subset of IMDB's actors, genres, movie actors, and movie ratings data. This dataset comes to us from Kaggle (https://www.kaggle.com/datasets/ashirwadsangwan/imdb-dataset) although we have taken steps to pull this data into a publis s3 bucket: \n",
    "\n",
    "* s3://cis9760-lecture9-movieanalysis/name.basics.tsv ---> (actors)\n",
    "* s3://cis9760-lecture9-movieanalysis/title.basics.tsv ---> (genres)\n",
    "* s3://cis9760-lecture9-movieanalysis/title.principals.tsv ---> (movie actors)\n",
    "* s3://cis9760-lecture9-movieanalysis/title.ratings.tsv ---> (movie ratings)"
   ]
  },
  {
   "cell_type": "markdown",
   "id": "a8f2bee1-af78-4e91-9a3e-2b2802f64e1c",
   "metadata": {},
   "source": [
    "## **Content**\n",
    "\n",
    "**<br />name.basics.tsv.gz – Contains the following information for names:**\n",
    "<br />nconst (string) - alphanumeric unique identifier of the name/person.\n",
    "<br />primaryName (string)– name by which the person is most often credited.\n",
    "<br />birthYear – in YYYY format.\n",
    "<br />deathYear – in YYYY format if applicable, else .\n",
    "<br />primaryProfession (array of strings)– the top-3 professions of the person.\n",
    "<br />knownForTitles (array of tconsts) – titles the person is known for.\n",
    "<br/><br/>\n",
    "**<br />title.basics.tsv.gz - Contains the following information for titles:**\n",
    "<br />tconst (string) - alphanumeric unique identifier of the title.\n",
    "<br />titleType (string) – the type/format of the title (e.g. movie, short, tvseries, tvepisode, video, etc).\n",
    "<br />primaryTitle (string) – the more popular title / the title used by the filmmakers on promotional materials at the point of release.\n",
    "<br />originalTitle (string) - original title, in the original language.\n",
    "<br />isAdult (boolean) - 0: non-adult title; 1: adult title.\n",
    "<br />startYear (YYYY) – represents the release year of a title. In the case of TV Series, it is the series start year.\n",
    "<br />endYear (YYYY) – TV Series end year. for all other title types.\n",
    "<br />runtimeMinutes – primary runtime of the title, in minutes.\n",
    "<br />genres (string array) – includes up to three genres associated with the title.\n",
    "<br/><br/>\n",
    "**<br />title.principals.tsv – Contains the principal cast/crew for titles:**\n",
    "<br />tconst (string) - alphanumeric unique identifier of the title.\n",
    "<br />ordering (integer) – a number to uniquely identify rows for a given titleId.\n",
    "<br />nconst (string) - alphanumeric unique identifier of the name/person.\n",
    "<br />category (string) - the category of job that person was in.\n",
    "<br />job (string) - the specific job title if applicable, else.\n",
    "<br />characters (string) - the name of the character played if applicable, else.\n",
    "<br/><br/>\n",
    "**<br />title.ratings.tsv.gz – Contains the IMDb rating and votes information for titles:**\n",
    "<br />tconst (string) - alphanumeric unique identifier of the title.\n",
    "<br />averageRating – weighted average of all the individual user ratings.\n",
    "<br />numVotes - number of votes the title has received."
   ]
  },
  {
   "cell_type": "markdown",
   "id": "0ede3b54-22c1-45b9-8242-1caa29bf2cca",
   "metadata": {},
   "source": [
    "## **PART 1 - Installation and Initial Setup**"
   ]
  },
  {
   "cell_type": "code",
   "execution_count": 1,
   "id": "380a5bab-f7bf-4759-af92-5c4a34b0653d",
   "metadata": {
    "execution": {
     "iopub.execute_input": "2023-11-27T23:17:38.288475Z",
     "iopub.status.busy": "2023-11-27T23:17:38.288253Z",
     "iopub.status.idle": "2023-11-27T23:17:38.301549Z",
     "shell.execute_reply": "2023-11-27T23:17:38.300943Z",
     "shell.execute_reply.started": "2023-11-27T23:17:38.288448Z"
    }
   },
   "outputs": [
    {
     "data": {
      "text/html": [
       "Current session configs: <tt>{'proxyUser': 'user_hrithikshukla', 'conf': {'spark.pyspark.python': 'python3', 'spark.pyspark.virtualenv.enabled': 'true', 'spark.pyspark.virtualenv.type': 'native', 'spark.pyspark.virtualenv.bin.path': '/usr/bin/virtualenv'}, 'kind': 'pyspark'}</tt><br>"
      ],
      "text/plain": [
       "<IPython.core.display.HTML object>"
      ]
     },
     "metadata": {},
     "output_type": "display_data"
    },
    {
     "data": {
      "text/html": [
       "No active sessions."
      ],
      "text/plain": [
       "<IPython.core.display.HTML object>"
      ]
     },
     "metadata": {},
     "output_type": "display_data"
    }
   ],
   "source": [
    "%%info"
   ]
  },
  {
   "cell_type": "code",
   "execution_count": 2,
   "id": "5e4847dd-8472-4e8a-a13f-9b7d4bce09ac",
   "metadata": {
    "execution": {
     "iopub.execute_input": "2023-11-27T23:17:38.302678Z",
     "iopub.status.busy": "2023-11-27T23:17:38.302475Z",
     "iopub.status.idle": "2023-11-27T23:18:09.651187Z",
     "shell.execute_reply": "2023-11-27T23:18:09.650391Z",
     "shell.execute_reply.started": "2023-11-27T23:17:38.302658Z"
    }
   },
   "outputs": [
    {
     "data": {
      "application/vnd.jupyter.widget-view+json": {
       "model_id": "07b368aaff294885baa0ca3171fbe65b",
       "version_major": 2,
       "version_minor": 0
      },
      "text/plain": [
       "VBox()"
      ]
     },
     "metadata": {},
     "output_type": "display_data"
    },
    {
     "name": "stdout",
     "output_type": "stream",
     "text": [
      "Starting Spark application\n"
     ]
    },
    {
     "data": {
      "text/html": [
       "<table>\n<tbody><tr><th>ID</th><th>YARN Application ID</th><th>Kind</th><th>State</th><th>Spark UI</th><th>Driver log</th><th>User</th><th>Current session?</th></tr><tr><td>2</td><td>application_1701114732974_0003</td><td>pyspark</td><td>idle</td><td><a target=\"_blank\" href=\"http://ip-172-31-30-90.us-east-2.compute.internal:20888/proxy/application_1701114732974_0003/\" class=\"emr-proxy-link j-3K1UTFLOBND6I application_1701114732974_0003\" emr-resource=\"j-3K1UTFLOBND6I\n\" application-id=\"application_1701114732974_0003\">Link</a></td><td><a target=\"_blank\" href=\"http://ip-172-31-18-249.us-east-2.compute.internal:8042/node/containerlogs/container_1701114732974_0003_01_000001/livy\">Link</a></td><td>None</td><td>✔</td></tr></tbody></table>"
      ],
      "text/plain": [
       "<IPython.core.display.HTML object>"
      ]
     },
     "metadata": {},
     "output_type": "display_data"
    },
    {
     "data": {
      "application/vnd.jupyter.widget-view+json": {
       "model_id": "",
       "version_major": 2,
       "version_minor": 0
      },
      "text/plain": [
       "FloatProgress(value=0.0, bar_style='info', description='Progress:', layout=Layout(height='25px', width='50%'),…"
      ]
     },
     "metadata": {},
     "output_type": "display_data"
    },
    {
     "name": "stdout",
     "output_type": "stream",
     "text": [
      "SparkSession available as 'spark'.\n"
     ]
    },
    {
     "data": {
      "application/vnd.jupyter.widget-view+json": {
       "model_id": "",
       "version_major": 2,
       "version_minor": 0
      },
      "text/plain": [
       "FloatProgress(value=0.0, bar_style='info', description='Progress:', layout=Layout(height='25px', width='50%'),…"
      ]
     },
     "metadata": {},
     "output_type": "display_data"
    },
    {
     "name": "stdout",
     "output_type": "stream",
     "text": [
      "Package                    Version\n",
      "-------------------------- ----------\n",
      "aws-cfn-bootstrap          2.0\n",
      "beautifulsoup4             4.9.3\n",
      "boto                       2.49.0\n",
      "click                      8.1.7\n",
      "docutils                   0.14\n",
      "jmespath                   1.0.1\n",
      "joblib                     1.3.2\n",
      "lockfile                   0.11.0\n",
      "lxml                       4.9.3\n",
      "mysqlclient                1.4.2\n",
      "nltk                       3.8.1\n",
      "nose                       1.3.4\n",
      "numpy                      1.20.0\n",
      "pip                        20.2.2\n",
      "py-dateutil                2.2\n",
      "pystache                   0.5.4\n",
      "python-daemon              2.2.3\n",
      "python37-sagemaker-pyspark 1.4.2\n",
      "pytz                       2023.3\n",
      "PyYAML                     5.4.1\n",
      "regex                      2021.11.10\n",
      "setuptools                 28.8.0\n",
      "simplejson                 3.2.0\n",
      "six                        1.13.0\n",
      "tqdm                       4.66.1\n",
      "wheel                      0.29.0\n",
      "windmill                   1.6\n",
      "\n",
      "WARNING: The directory '/home/.cache/pip' or its parent directory is not owned or is not writable by the current user. The cache has been disabled. Check the permissions and owner of that directory. If executing pip with sudo, you may want sudo's -H flag."
     ]
    }
   ],
   "source": [
    "# sc: spark context\n",
    "sc.list_packages()"
   ]
  },
  {
   "cell_type": "code",
   "execution_count": 3,
   "id": "6839d10b-cf99-46d1-a5ba-7fadaf5ad4ea",
   "metadata": {
    "execution": {
     "iopub.execute_input": "2023-11-27T23:18:09.652850Z",
     "iopub.status.busy": "2023-11-27T23:18:09.652531Z",
     "iopub.status.idle": "2023-11-27T23:18:28.995463Z",
     "shell.execute_reply": "2023-11-27T23:18:28.994630Z",
     "shell.execute_reply.started": "2023-11-27T23:18:09.652817Z"
    }
   },
   "outputs": [
    {
     "data": {
      "application/vnd.jupyter.widget-view+json": {
       "model_id": "4a804781113841038ae978bc751409eb",
       "version_major": 2,
       "version_minor": 0
      },
      "text/plain": [
       "VBox()"
      ]
     },
     "metadata": {},
     "output_type": "display_data"
    },
    {
     "data": {
      "application/vnd.jupyter.widget-view+json": {
       "model_id": "",
       "version_major": 2,
       "version_minor": 0
      },
      "text/plain": [
       "FloatProgress(value=0.0, bar_style='info', description='Progress:', layout=Layout(height='25px', width='50%'),…"
      ]
     },
     "metadata": {},
     "output_type": "display_data"
    },
    {
     "name": "stdout",
     "output_type": "stream",
     "text": [
      "Collecting pandas==1.0.5\n",
      "  Downloading pandas-1.0.5-cp37-cp37m-manylinux1_x86_64.whl (10.1 MB)\n",
      "Collecting python-dateutil>=2.6.1\n",
      "  Downloading python_dateutil-2.8.2-py2.py3-none-any.whl (247 kB)\n",
      "Requirement already satisfied: pytz>=2017.2 in /usr/local/lib/python3.7/site-packages (from pandas==1.0.5) (2023.3)\n",
      "Requirement already satisfied: numpy>=1.13.3 in /usr/local/lib64/python3.7/site-packages (from pandas==1.0.5) (1.20.0)\n",
      "Requirement already satisfied: six>=1.5 in /usr/local/lib/python3.7/site-packages (from python-dateutil>=2.6.1->pandas==1.0.5) (1.13.0)\n",
      "Installing collected packages: python-dateutil, pandas\n",
      "Successfully installed pandas-1.0.5 python-dateutil-2.8.2\n",
      "\n",
      "Collecting matplotlib==3.2.1\n",
      "  Downloading matplotlib-3.2.1-cp37-cp37m-manylinux1_x86_64.whl (12.4 MB)\n",
      "Collecting cycler>=0.10\n",
      "  Downloading cycler-0.11.0-py3-none-any.whl (6.4 kB)\n",
      "Collecting pyparsing!=2.0.4,!=2.1.2,!=2.1.6,>=2.0.1\n",
      "  Downloading pyparsing-3.1.1-py3-none-any.whl (103 kB)\n",
      "Requirement already satisfied: numpy>=1.11 in /usr/local/lib64/python3.7/site-packages (from matplotlib==3.2.1) (1.20.0)\n",
      "Requirement already satisfied: python-dateutil>=2.1 in ./tmp/spark-38a08de9-a627-4682-abf2-b8a71d4492fe/lib/python3.7/site-packages (from matplotlib==3.2.1) (2.8.2)\n",
      "Collecting kiwisolver>=1.0.1\n",
      "  Downloading kiwisolver-1.4.5-cp37-cp37m-manylinux_2_5_x86_64.manylinux1_x86_64.whl (1.1 MB)\n",
      "Requirement already satisfied: six>=1.5 in /usr/local/lib/python3.7/site-packages (from python-dateutil>=2.1->matplotlib==3.2.1) (1.13.0)\n",
      "Collecting typing-extensions; python_version < \"3.8\"\n",
      "  Downloading typing_extensions-4.7.1-py3-none-any.whl (33 kB)\n",
      "Installing collected packages: cycler, pyparsing, typing-extensions, kiwisolver, matplotlib\n",
      "Successfully installed cycler-0.11.0 kiwisolver-1.4.5 matplotlib-3.2.1 pyparsing-3.1.1 typing-extensions-4.7.1\n",
      "\n",
      "WARNING: The directory '/home/.cache/pip' or its parent directory is not owned or is not writable by the current user. The cache has been disabled. Check the permissions and owner of that directory. If executing pip with sudo, you may want sudo's -H flag.\n",
      "\n",
      "WARNING: The directory '/home/.cache/pip' or its parent directory is not owned or is not writable by the current user. The cache has been disabled. Check the permissions and owner of that directory. If executing pip with sudo, you may want sudo's -H flag."
     ]
    }
   ],
   "source": [
    "# let's install the packages we need: \n",
    "sc.install_pypi_package(\"pandas==1.0.5\")\n",
    "sc.install_pypi_package(\"matplotlib==3.2.1\")"
   ]
  },
  {
   "cell_type": "code",
   "execution_count": 4,
   "id": "6d753d1b-c5c9-4f16-b7d6-678d65de2596",
   "metadata": {
    "execution": {
     "iopub.execute_input": "2023-11-27T23:18:28.996767Z",
     "iopub.status.busy": "2023-11-27T23:18:28.996556Z",
     "iopub.status.idle": "2023-11-27T23:18:31.257663Z",
     "shell.execute_reply": "2023-11-27T23:18:31.256962Z",
     "shell.execute_reply.started": "2023-11-27T23:18:28.996747Z"
    },
    "tags": []
   },
   "outputs": [
    {
     "data": {
      "application/vnd.jupyter.widget-view+json": {
       "model_id": "2bed042c2b5e418496b710ffb6483fb7",
       "version_major": 2,
       "version_minor": 0
      },
      "text/plain": [
       "VBox()"
      ]
     },
     "metadata": {},
     "output_type": "display_data"
    },
    {
     "data": {
      "application/vnd.jupyter.widget-view+json": {
       "model_id": "",
       "version_major": 2,
       "version_minor": 0
      },
      "text/plain": [
       "FloatProgress(value=0.0, bar_style='info', description='Progress:', layout=Layout(height='25px', width='50%'),…"
      ]
     },
     "metadata": {},
     "output_type": "display_data"
    }
   ],
   "source": [
    "# Importing all the necessary libraries.\n",
    "\n",
    "import pandas as pd\n",
    "import matplotlib.pyplot as plt\n",
    "from pyspark.sql.functions import desc, avg, col, split, explode, array_contains, collect_list, expr, when\n",
    "from pyspark.sql.types import DoubleType"
   ]
  },
  {
   "cell_type": "markdown",
   "id": "d2fcb89d-1346-4f5a-a47e-aab6e240c280",
   "metadata": {},
   "source": [
    "## **Loading Data**"
   ]
  },
  {
   "cell_type": "markdown",
   "id": "b1f3cdb9-7a24-492d-af10-6754e2a4afde",
   "metadata": {},
   "source": [
    "Load all data from S3 into Spark dataframe objects"
   ]
  },
  {
   "cell_type": "code",
   "execution_count": 5,
   "id": "434b3165-a31f-409f-b52c-6b8f1c694307",
   "metadata": {
    "execution": {
     "iopub.execute_input": "2023-11-27T23:18:31.259109Z",
     "iopub.status.busy": "2023-11-27T23:18:31.258768Z",
     "iopub.status.idle": "2023-11-27T23:18:38.548734Z",
     "shell.execute_reply": "2023-11-27T23:18:38.548008Z",
     "shell.execute_reply.started": "2023-11-27T23:18:31.259075Z"
    },
    "tags": []
   },
   "outputs": [
    {
     "data": {
      "application/vnd.jupyter.widget-view+json": {
       "model_id": "48f2390fa0d4434dbb9c703913b0b75a",
       "version_major": 2,
       "version_minor": 0
      },
      "text/plain": [
       "VBox()"
      ]
     },
     "metadata": {},
     "output_type": "display_data"
    },
    {
     "data": {
      "application/vnd.jupyter.widget-view+json": {
       "model_id": "",
       "version_major": 2,
       "version_minor": 0
      },
      "text/plain": [
       "FloatProgress(value=0.0, bar_style='info', description='Progress:', layout=Layout(height='25px', width='50%'),…"
      ]
     },
     "metadata": {},
     "output_type": "display_data"
    }
   ],
   "source": [
    "# Actors Dataframe\n",
    "actors = spark.read.csv('s3://cis9760-lecture9-movieanalysis/name.basics.tsv', sep=r'\\t', header=True)"
   ]
  },
  {
   "cell_type": "code",
   "execution_count": 6,
   "id": "8bd571b9-fe56-4db7-a91f-2f5a80d6fa77",
   "metadata": {
    "execution": {
     "iopub.execute_input": "2023-11-27T23:18:38.551024Z",
     "iopub.status.busy": "2023-11-27T23:18:38.550793Z",
     "iopub.status.idle": "2023-11-27T23:18:39.297528Z",
     "shell.execute_reply": "2023-11-27T23:18:39.296799Z",
     "shell.execute_reply.started": "2023-11-27T23:18:38.551002Z"
    },
    "tags": []
   },
   "outputs": [
    {
     "data": {
      "application/vnd.jupyter.widget-view+json": {
       "model_id": "320b89f5c888431088933df2f2cbb818",
       "version_major": 2,
       "version_minor": 0
      },
      "text/plain": [
       "VBox()"
      ]
     },
     "metadata": {},
     "output_type": "display_data"
    },
    {
     "data": {
      "application/vnd.jupyter.widget-view+json": {
       "model_id": "",
       "version_major": 2,
       "version_minor": 0
      },
      "text/plain": [
       "FloatProgress(value=0.0, bar_style='info', description='Progress:', layout=Layout(height='25px', width='50%'),…"
      ]
     },
     "metadata": {},
     "output_type": "display_data"
    }
   ],
   "source": [
    "# Genres Dataframe\n",
    "genres = spark.read.csv('s3://cis9760-lecture9-movieanalysis/title.basics.tsv', sep=r'\\t', header=True)"
   ]
  },
  {
   "cell_type": "code",
   "execution_count": 7,
   "id": "f97ce213-a82d-40cb-be40-224b30dee93e",
   "metadata": {
    "execution": {
     "iopub.execute_input": "2023-11-27T23:18:39.299863Z",
     "iopub.status.busy": "2023-11-27T23:18:39.299465Z",
     "iopub.status.idle": "2023-11-27T23:18:40.048070Z",
     "shell.execute_reply": "2023-11-27T23:18:40.047237Z",
     "shell.execute_reply.started": "2023-11-27T23:18:39.299828Z"
    },
    "tags": []
   },
   "outputs": [
    {
     "data": {
      "application/vnd.jupyter.widget-view+json": {
       "model_id": "15c80d1fb64142cdad033dbce2ac9c49",
       "version_major": 2,
       "version_minor": 0
      },
      "text/plain": [
       "VBox()"
      ]
     },
     "metadata": {},
     "output_type": "display_data"
    },
    {
     "data": {
      "application/vnd.jupyter.widget-view+json": {
       "model_id": "",
       "version_major": 2,
       "version_minor": 0
      },
      "text/plain": [
       "FloatProgress(value=0.0, bar_style='info', description='Progress:', layout=Layout(height='25px', width='50%'),…"
      ]
     },
     "metadata": {},
     "output_type": "display_data"
    }
   ],
   "source": [
    "# Movie_Actors Dataframe\n",
    "movie_actors = spark.read.csv('s3://cis9760-lecture9-movieanalysis/title.principals.tsv', sep=r'\\t', header=True)"
   ]
  },
  {
   "cell_type": "code",
   "execution_count": 8,
   "id": "9c7c4755-2bce-455d-8fcf-434f709d82df",
   "metadata": {
    "execution": {
     "iopub.execute_input": "2023-11-27T23:18:40.049242Z",
     "iopub.status.busy": "2023-11-27T23:18:40.049014Z",
     "iopub.status.idle": "2023-11-27T23:18:40.798096Z",
     "shell.execute_reply": "2023-11-27T23:18:40.797247Z",
     "shell.execute_reply.started": "2023-11-27T23:18:40.049221Z"
    },
    "tags": []
   },
   "outputs": [
    {
     "data": {
      "application/vnd.jupyter.widget-view+json": {
       "model_id": "3a6ce84a54c24ce5abcdb0c3247f0d4f",
       "version_major": 2,
       "version_minor": 0
      },
      "text/plain": [
       "VBox()"
      ]
     },
     "metadata": {},
     "output_type": "display_data"
    },
    {
     "data": {
      "application/vnd.jupyter.widget-view+json": {
       "model_id": "",
       "version_major": 2,
       "version_minor": 0
      },
      "text/plain": [
       "FloatProgress(value=0.0, bar_style='info', description='Progress:', layout=Layout(height='25px', width='50%'),…"
      ]
     },
     "metadata": {},
     "output_type": "display_data"
    }
   ],
   "source": [
    "# Movie_Ratings Dataframe\n",
    "movie_ratings = spark.read.csv('s3://cis9760-lecture9-movieanalysis/title.ratings.tsv', sep=r'\\t', header=True)"
   ]
  },
  {
   "cell_type": "markdown",
   "id": "8af3f4a0-b964-4de4-8086-049f2d3a71c6",
   "metadata": {},
   "source": [
    "### **Actors**"
   ]
  },
  {
   "cell_type": "code",
   "execution_count": 9,
   "id": "ea79d281-6f27-424e-b658-0919394b2602",
   "metadata": {
    "execution": {
     "iopub.execute_input": "2023-11-27T23:18:40.800124Z",
     "iopub.status.busy": "2023-11-27T23:18:40.799479Z",
     "iopub.status.idle": "2023-11-27T23:18:41.072094Z",
     "shell.execute_reply": "2023-11-27T23:18:41.071049Z",
     "shell.execute_reply.started": "2023-11-27T23:18:40.800088Z"
    },
    "tags": []
   },
   "outputs": [
    {
     "data": {
      "application/vnd.jupyter.widget-view+json": {
       "model_id": "344978f5e7de4f38beba644577e73194",
       "version_major": 2,
       "version_minor": 0
      },
      "text/plain": [
       "VBox()"
      ]
     },
     "metadata": {},
     "output_type": "display_data"
    },
    {
     "data": {
      "application/vnd.jupyter.widget-view+json": {
       "model_id": "",
       "version_major": 2,
       "version_minor": 0
      },
      "text/plain": [
       "FloatProgress(value=0.0, bar_style='info', description='Progress:', layout=Layout(height='25px', width='50%'),…"
      ]
     },
     "metadata": {},
     "output_type": "display_data"
    },
    {
     "name": "stdout",
     "output_type": "stream",
     "text": [
      "root\n",
      " |-- nconst: string (nullable = true)\n",
      " |-- primaryName: string (nullable = true)\n",
      " |-- birthYear: string (nullable = true)\n",
      " |-- deathYear: string (nullable = true)\n",
      " |-- primaryProfession: string (nullable = true)\n",
      " |-- knownForTitles: string (nullable = true)"
     ]
    }
   ],
   "source": [
    "actors.printSchema()"
   ]
  },
  {
   "cell_type": "code",
   "execution_count": 10,
   "id": "dce95daf-8d48-4271-ba90-6dd9f5dab6cf",
   "metadata": {
    "execution": {
     "iopub.execute_input": "2023-11-27T23:18:41.073379Z",
     "iopub.status.busy": "2023-11-27T23:18:41.073117Z",
     "iopub.status.idle": "2023-11-27T23:18:41.827835Z",
     "shell.execute_reply": "2023-11-27T23:18:41.827005Z",
     "shell.execute_reply.started": "2023-11-27T23:18:41.073355Z"
    }
   },
   "outputs": [
    {
     "data": {
      "application/vnd.jupyter.widget-view+json": {
       "model_id": "6022654522544be9b33cb1c4ca39cb93",
       "version_major": 2,
       "version_minor": 0
      },
      "text/plain": [
       "VBox()"
      ]
     },
     "metadata": {},
     "output_type": "display_data"
    },
    {
     "data": {
      "application/vnd.jupyter.widget-view+json": {
       "model_id": "",
       "version_major": 2,
       "version_minor": 0
      },
      "text/plain": [
       "FloatProgress(value=0.0, bar_style='info', description='Progress:', layout=Layout(height='25px', width='50%'),…"
      ]
     },
     "metadata": {},
     "output_type": "display_data"
    },
    {
     "name": "stdout",
     "output_type": "stream",
     "text": [
      "+---------------+---------+---------+--------------------+\n",
      "|    primaryName|birthYear|deathYear|      knownForTitles|\n",
      "+---------------+---------+---------+--------------------+\n",
      "|   Fred Astaire|     1899|     1987|tt0050419,tt00531...|\n",
      "|  Lauren Bacall|     1924|     2014|tt0071877,tt01170...|\n",
      "|Brigitte Bardot|     1934|       \\N|tt0054452,tt00491...|\n",
      "|   John Belushi|     1949|     1982|tt0077975,tt00725...|\n",
      "| Ingmar Bergman|     1918|     2007|tt0069467,tt00509...|\n",
      "+---------------+---------+---------+--------------------+"
     ]
    }
   ],
   "source": [
    "result = actors.select('primaryName', 'birthYear', 'deathYear', 'knownForTitles').limit(5)\n",
    "result.show()"
   ]
  },
  {
   "cell_type": "markdown",
   "id": "e1a515fa-dc79-4999-800f-3a3308bf6fa5",
   "metadata": {
    "execution": {
     "iopub.execute_input": "2023-11-27T22:54:29.885726Z",
     "iopub.status.busy": "2023-11-27T22:54:29.885426Z",
     "iopub.status.idle": "2023-11-27T22:54:29.923398Z",
     "shell.execute_reply": "2023-11-27T22:54:29.922518Z",
     "shell.execute_reply.started": "2023-11-27T22:54:29.885701Z"
    }
   },
   "source": [
    "### **Genres**"
   ]
  },
  {
   "cell_type": "code",
   "execution_count": 11,
   "id": "ea4b6a3f-ba85-4fff-969d-753e5af70f03",
   "metadata": {
    "execution": {
     "iopub.execute_input": "2023-11-27T23:18:41.829138Z",
     "iopub.status.busy": "2023-11-27T23:18:41.828833Z",
     "iopub.status.idle": "2023-11-27T23:18:42.589161Z",
     "shell.execute_reply": "2023-11-27T23:18:42.588318Z",
     "shell.execute_reply.started": "2023-11-27T23:18:41.829105Z"
    },
    "tags": []
   },
   "outputs": [
    {
     "data": {
      "application/vnd.jupyter.widget-view+json": {
       "model_id": "ee574384ee5e4b4ab0ef30a13c8c9622",
       "version_major": 2,
       "version_minor": 0
      },
      "text/plain": [
       "VBox()"
      ]
     },
     "metadata": {},
     "output_type": "display_data"
    },
    {
     "data": {
      "application/vnd.jupyter.widget-view+json": {
       "model_id": "",
       "version_major": 2,
       "version_minor": 0
      },
      "text/plain": [
       "FloatProgress(value=0.0, bar_style='info', description='Progress:', layout=Layout(height='25px', width='50%'),…"
      ]
     },
     "metadata": {},
     "output_type": "display_data"
    },
    {
     "name": "stdout",
     "output_type": "stream",
     "text": [
      "+---------+--------------------+--------------------+\n",
      "|titleType|        primaryTitle|              genres|\n",
      "+---------+--------------------+--------------------+\n",
      "|    short|          Carmencita|   Documentary,Short|\n",
      "|    short|Le clown et ses c...|     Animation,Short|\n",
      "|    short|      Pauvre Pierrot|Animation,Comedy,...|\n",
      "|    short|         Un bon bock|     Animation,Short|\n",
      "|    short|    Blacksmith Scene|        Comedy,Short|\n",
      "|    short|   Chinese Opium Den|               Short|\n",
      "|    short|Corbett and Court...|         Short,Sport|\n",
      "|    short|Edison Kinetoscop...|   Documentary,Short|\n",
      "|    movie|          Miss Jerry|             Romance|\n",
      "|    short| Exiting the Factory|   Documentary,Short|\n",
      "+---------+--------------------+--------------------+"
     ]
    }
   ],
   "source": [
    "# Display the first 10 rows with specified columns\n",
    "result_genres = genres.select('titleType', 'primaryTitle', 'genres').limit(10)\n",
    "\n",
    "# Show the result\n",
    "result_genres.show()"
   ]
  },
  {
   "cell_type": "code",
   "execution_count": 12,
   "id": "94f0b2cd-7533-4018-b0df-36cc6cf1afad",
   "metadata": {
    "execution": {
     "iopub.execute_input": "2023-11-27T23:18:42.590457Z",
     "iopub.status.busy": "2023-11-27T23:18:42.590233Z",
     "iopub.status.idle": "2023-11-27T23:18:51.869298Z",
     "shell.execute_reply": "2023-11-27T23:18:51.868628Z",
     "shell.execute_reply.started": "2023-11-27T23:18:42.590436Z"
    }
   },
   "outputs": [
    {
     "data": {
      "application/vnd.jupyter.widget-view+json": {
       "model_id": "1e1d57e5a3184e809f4a9f41129737f6",
       "version_major": 2,
       "version_minor": 0
      },
      "text/plain": [
       "VBox()"
      ]
     },
     "metadata": {},
     "output_type": "display_data"
    },
    {
     "data": {
      "application/vnd.jupyter.widget-view+json": {
       "model_id": "",
       "version_major": 2,
       "version_minor": 0
      },
      "text/plain": [
       "FloatProgress(value=0.0, bar_style='info', description='Progress:', layout=Layout(height='25px', width='50%'),…"
      ]
     },
     "metadata": {},
     "output_type": "display_data"
    },
    {
     "name": "stdout",
     "output_type": "stream",
     "text": [
      "+------------+\n",
      "|   titleType|\n",
      "+------------+\n",
      "|    tvSeries|\n",
      "|tvMiniSeries|\n",
      "|       movie|\n",
      "|   videoGame|\n",
      "|   tvSpecial|\n",
      "|       video|\n",
      "|     tvMovie|\n",
      "|   tvEpisode|\n",
      "|     tvShort|\n",
      "|       short|\n",
      "+------------+"
     ]
    }
   ],
   "source": [
    "# Display unique categories for the titleType column\n",
    "unique_categories = genres.select('titleType').distinct()\n",
    "\n",
    "# Show the result\n",
    "unique_categories.show()"
   ]
  },
  {
   "cell_type": "code",
   "execution_count": 13,
   "id": "1dc90456-fcfd-41c7-b99e-f8966051ad7a",
   "metadata": {
    "execution": {
     "iopub.execute_input": "2023-11-27T23:18:51.870405Z",
     "iopub.status.busy": "2023-11-27T23:18:51.870186Z",
     "iopub.status.idle": "2023-11-27T23:18:51.914636Z",
     "shell.execute_reply": "2023-11-27T23:18:51.913875Z",
     "shell.execute_reply.started": "2023-11-27T23:18:51.870384Z"
    }
   },
   "outputs": [
    {
     "data": {
      "application/vnd.jupyter.widget-view+json": {
       "model_id": "a547459f4521498cad39d745fa3a4e36",
       "version_major": 2,
       "version_minor": 0
      },
      "text/plain": [
       "VBox()"
      ]
     },
     "metadata": {},
     "output_type": "display_data"
    },
    {
     "data": {
      "application/vnd.jupyter.widget-view+json": {
       "model_id": "",
       "version_major": 2,
       "version_minor": 0
      },
      "text/plain": [
       "FloatProgress(value=0.0, bar_style='info', description='Progress:', layout=Layout(height='25px', width='50%'),…"
      ]
     },
     "metadata": {},
     "output_type": "display_data"
    },
    {
     "name": "stdout",
     "output_type": "stream",
     "text": [
      "root\n",
      " |-- tconst: string (nullable = true)\n",
      " |-- titleType: string (nullable = true)\n",
      " |-- primaryTitle: string (nullable = true)\n",
      " |-- originalTitle: string (nullable = true)\n",
      " |-- isAdult: string (nullable = true)\n",
      " |-- startYear: string (nullable = true)\n",
      " |-- endYear: string (nullable = true)\n",
      " |-- runtimeMinutes: string (nullable = true)\n",
      " |-- genres: string (nullable = true)"
     ]
    }
   ],
   "source": [
    "# Display the schema\n",
    "genres.printSchema()"
   ]
  },
  {
   "cell_type": "markdown",
   "id": "bedaa6e8-5975-47ea-81f8-b9fdaa3ee2a3",
   "metadata": {},
   "source": [
    "### **Movie Actors**"
   ]
  },
  {
   "cell_type": "code",
   "execution_count": 14,
   "id": "c33a770c-05dc-44f5-b189-a1d44aaf31db",
   "metadata": {
    "execution": {
     "iopub.execute_input": "2023-11-27T23:18:51.916242Z",
     "iopub.status.busy": "2023-11-27T23:18:51.915913Z",
     "iopub.status.idle": "2023-11-27T23:18:51.954209Z",
     "shell.execute_reply": "2023-11-27T23:18:51.953589Z",
     "shell.execute_reply.started": "2023-11-27T23:18:51.916193Z"
    }
   },
   "outputs": [
    {
     "data": {
      "application/vnd.jupyter.widget-view+json": {
       "model_id": "22b048e640084433b3a2ccff8c329758",
       "version_major": 2,
       "version_minor": 0
      },
      "text/plain": [
       "VBox()"
      ]
     },
     "metadata": {},
     "output_type": "display_data"
    },
    {
     "data": {
      "application/vnd.jupyter.widget-view+json": {
       "model_id": "",
       "version_major": 2,
       "version_minor": 0
      },
      "text/plain": [
       "FloatProgress(value=0.0, bar_style='info', description='Progress:', layout=Layout(height='25px', width='50%'),…"
      ]
     },
     "metadata": {},
     "output_type": "display_data"
    },
    {
     "name": "stdout",
     "output_type": "stream",
     "text": [
      "root\n",
      " |-- tconst: string (nullable = true)\n",
      " |-- ordering: string (nullable = true)\n",
      " |-- nconst: string (nullable = true)\n",
      " |-- category: string (nullable = true)\n",
      " |-- job: string (nullable = true)\n",
      " |-- characters: string (nullable = true)"
     ]
    }
   ],
   "source": [
    "# Display the schema\n",
    "movie_actors.printSchema()"
   ]
  },
  {
   "cell_type": "code",
   "execution_count": 15,
   "id": "70c22ce8-7f91-4490-991a-96c9754695e1",
   "metadata": {
    "execution": {
     "iopub.execute_input": "2023-11-27T23:18:51.955369Z",
     "iopub.status.busy": "2023-11-27T23:18:51.955155Z",
     "iopub.status.idle": "2023-11-27T23:18:52.715221Z",
     "shell.execute_reply": "2023-11-27T23:18:52.714562Z",
     "shell.execute_reply.started": "2023-11-27T23:18:51.955342Z"
    }
   },
   "outputs": [
    {
     "data": {
      "application/vnd.jupyter.widget-view+json": {
       "model_id": "236b046235dc4b418673c28987f36722",
       "version_major": 2,
       "version_minor": 0
      },
      "text/plain": [
       "VBox()"
      ]
     },
     "metadata": {},
     "output_type": "display_data"
    },
    {
     "data": {
      "application/vnd.jupyter.widget-view+json": {
       "model_id": "",
       "version_major": 2,
       "version_minor": 0
      },
      "text/plain": [
       "FloatProgress(value=0.0, bar_style='info', description='Progress:', layout=Layout(height='25px', width='50%'),…"
      ]
     },
     "metadata": {},
     "output_type": "display_data"
    },
    {
     "name": "stdout",
     "output_type": "stream",
     "text": [
      "+---------+--------+---------+---------------+--------------------+-----------+\n",
      "|   tconst|ordering|   nconst|       category|                 job| characters|\n",
      "+---------+--------+---------+---------------+--------------------+-----------+\n",
      "|tt0000001|       1|nm1588970|           self|                  \\N|[\"Herself\"]|\n",
      "|tt0000001|       2|nm0005690|       director|                  \\N|         \\N|\n",
      "|tt0000001|       3|nm0374658|cinematographer|director of photo...|         \\N|\n",
      "|tt0000002|       1|nm0721526|       director|                  \\N|         \\N|\n",
      "|tt0000002|       2|nm1335271|       composer|                  \\N|         \\N|\n",
      "|tt0000003|       1|nm0721526|       director|                  \\N|         \\N|\n",
      "|tt0000003|       2|nm5442194|       producer|            producer|         \\N|\n",
      "|tt0000003|       3|nm1335271|       composer|                  \\N|         \\N|\n",
      "|tt0000003|       4|nm5442200|         editor|                  \\N|         \\N|\n",
      "|tt0000004|       1|nm0721526|       director|                  \\N|         \\N|\n",
      "+---------+--------+---------+---------------+--------------------+-----------+\n",
      "only showing top 10 rows"
     ]
    }
   ],
   "source": [
    "# Display the first 10 rows\n",
    "movie_actors.show(10)"
   ]
  },
  {
   "cell_type": "markdown",
   "id": "212469ae-d7d2-4fb7-8923-27673c1e8ca2",
   "metadata": {
    "execution": {
     "iopub.execute_input": "2023-11-21T19:53:27.701521Z",
     "iopub.status.busy": "2023-11-21T19:53:27.701070Z",
     "iopub.status.idle": "2023-11-21T19:53:27.788628Z",
     "shell.execute_reply": "2023-11-21T19:53:27.787701Z",
     "shell.execute_reply.started": "2023-11-21T19:53:27.701475Z"
    }
   },
   "source": [
    "### **Movie Ratings**"
   ]
  },
  {
   "cell_type": "code",
   "execution_count": 16,
   "id": "ed19d96d-d11d-4ca7-ad1e-409820929971",
   "metadata": {
    "execution": {
     "iopub.execute_input": "2023-11-27T23:18:52.716355Z",
     "iopub.status.busy": "2023-11-27T23:18:52.716135Z",
     "iopub.status.idle": "2023-11-27T23:18:52.754506Z",
     "shell.execute_reply": "2023-11-27T23:18:52.753848Z",
     "shell.execute_reply.started": "2023-11-27T23:18:52.716334Z"
    }
   },
   "outputs": [
    {
     "data": {
      "application/vnd.jupyter.widget-view+json": {
       "model_id": "8f3cff16d9954009a7fa9a4d5bf80642",
       "version_major": 2,
       "version_minor": 0
      },
      "text/plain": [
       "VBox()"
      ]
     },
     "metadata": {},
     "output_type": "display_data"
    },
    {
     "data": {
      "application/vnd.jupyter.widget-view+json": {
       "model_id": "",
       "version_major": 2,
       "version_minor": 0
      },
      "text/plain": [
       "FloatProgress(value=0.0, bar_style='info', description='Progress:', layout=Layout(height='25px', width='50%'),…"
      ]
     },
     "metadata": {},
     "output_type": "display_data"
    },
    {
     "name": "stdout",
     "output_type": "stream",
     "text": [
      "root\n",
      " |-- tconst: string (nullable = true)\n",
      " |-- averageRating: string (nullable = true)\n",
      " |-- numVotes: string (nullable = true)"
     ]
    }
   ],
   "source": [
    "# Display the schema\n",
    "movie_ratings.printSchema()"
   ]
  },
  {
   "cell_type": "code",
   "execution_count": 17,
   "id": "5dec35a7-f4fa-40e6-bc66-1acc8c248dfa",
   "metadata": {
    "execution": {
     "iopub.execute_input": "2023-11-27T23:18:52.755634Z",
     "iopub.status.busy": "2023-11-27T23:18:52.755403Z",
     "iopub.status.idle": "2023-11-27T23:18:55.016860Z",
     "shell.execute_reply": "2023-11-27T23:18:55.016069Z",
     "shell.execute_reply.started": "2023-11-27T23:18:52.755613Z"
    },
    "tags": []
   },
   "outputs": [
    {
     "data": {
      "application/vnd.jupyter.widget-view+json": {
       "model_id": "7cd0137ca4f34853b0f404561a03aaa8",
       "version_major": 2,
       "version_minor": 0
      },
      "text/plain": [
       "VBox()"
      ]
     },
     "metadata": {},
     "output_type": "display_data"
    },
    {
     "data": {
      "application/vnd.jupyter.widget-view+json": {
       "model_id": "",
       "version_major": 2,
       "version_minor": 0
      },
      "text/plain": [
       "FloatProgress(value=0.0, bar_style='info', description='Progress:', layout=Layout(height='25px', width='50%'),…"
      ]
     },
     "metadata": {},
     "output_type": "display_data"
    },
    {
     "name": "stdout",
     "output_type": "stream",
     "text": [
      "+---------+-------------+--------+\n",
      "|   tconst|averageRating|numVotes|\n",
      "+---------+-------------+--------+\n",
      "|tt7430722|          6.8|    9999|\n",
      "|tt4445154|          8.1|    9997|\n",
      "|tt2229907|          6.3|    9996|\n",
      "|tt0294097|          8.0|    9994|\n",
      "|tt0264734|          6.5|    9993|\n",
      "|tt2032572|          5.2|    9991|\n",
      "|tt8860450|          6.3|    9991|\n",
      "|tt0696544|          8.2|     999|\n",
      "|tt2171651|          7.8|     999|\n",
      "|tt0664505|          8.4|     999|\n",
      "+---------+-------------+--------+\n",
      "only showing top 10 rows"
     ]
    }
   ],
   "source": [
    "# Show the first 10 rows in descending order by the number of votes\n",
    "movie_ratings.orderBy(desc(\"numVotes\")).show(10)"
   ]
  },
  {
   "cell_type": "markdown",
   "id": "56d4e9a3-c318-4be4-86c2-d92d90cbc6fe",
   "metadata": {
    "execution": {
     "iopub.execute_input": "2023-11-21T20:07:53.434823Z",
     "iopub.status.busy": "2023-11-21T20:07:53.434515Z",
     "iopub.status.idle": "2023-11-21T20:07:53.482228Z",
     "shell.execute_reply": "2023-11-21T20:07:53.481631Z",
     "shell.execute_reply.started": "2023-11-21T20:07:53.434797Z"
    }
   },
   "source": [
    "## **Overview of Data**"
   ]
  },
  {
   "cell_type": "markdown",
   "id": "9e51954e-9c47-449c-8dd7-3ea115a024b7",
   "metadata": {},
   "source": [
    "Display the number of rows and columns in each dataFrame object."
   ]
  },
  {
   "cell_type": "code",
   "execution_count": 18,
   "id": "36c64eab-6944-4d9d-8c1c-5390961a2b81",
   "metadata": {
    "execution": {
     "iopub.execute_input": "2023-11-27T23:18:55.018188Z",
     "iopub.status.busy": "2023-11-27T23:18:55.017899Z",
     "iopub.status.idle": "2023-11-27T23:19:14.396053Z",
     "shell.execute_reply": "2023-11-27T23:19:14.395341Z",
     "shell.execute_reply.started": "2023-11-27T23:18:55.018155Z"
    }
   },
   "outputs": [
    {
     "data": {
      "application/vnd.jupyter.widget-view+json": {
       "model_id": "2aeafe6cd6eb4c92a351f5cae73c29fd",
       "version_major": 2,
       "version_minor": 0
      },
      "text/plain": [
       "VBox()"
      ]
     },
     "metadata": {},
     "output_type": "display_data"
    },
    {
     "data": {
      "application/vnd.jupyter.widget-view+json": {
       "model_id": "",
       "version_major": 2,
       "version_minor": 0
      },
      "text/plain": [
       "FloatProgress(value=0.0, bar_style='info', description='Progress:', layout=Layout(height='25px', width='50%'),…"
      ]
     },
     "metadata": {},
     "output_type": "display_data"
    },
    {
     "name": "stdout",
     "output_type": "stream",
     "text": [
      "Number of columns in Actors table: 6\n",
      "Number of rows in Actors table: 9706922\n",
      "\n",
      "\n",
      "Number of columns in Genres table: 9\n",
      "Number of rows in Genres table: 6321302\n",
      "\n",
      "\n",
      "Number of columns in Movie Actors table: 6\n",
      "Number of rows in Movie Actors table: 36468817\n",
      "\n",
      "\n",
      "Number of columns in Movie Ratings table: 3\n",
      "Number of rows in Movie Ratings table: 993153"
     ]
    }
   ],
   "source": [
    "# Display number of columns and rows for each DataFrame\n",
    "def display_info(df, table_name):\n",
    "    num_columns = len(df.columns)\n",
    "    num_rows = df.count()\n",
    "\n",
    "    print(f\"Number of columns in {table_name} table: {num_columns}\")\n",
    "    print(f\"Number of rows in {table_name} table: {num_rows}\")\n",
    "    print(\"\\n\")\n",
    "\n",
    "# Display information for each DataFrame\n",
    "display_info(actors, \"Actors\")\n",
    "display_info(genres, \"Genres\")\n",
    "display_info(movie_actors, \"Movie Actors\")\n",
    "display_info(movie_ratings, \"Movie Ratings\")"
   ]
  },
  {
   "cell_type": "markdown",
   "id": "0da01ee3-e2b5-4f0d-ba40-bc4fafd23a48",
   "metadata": {},
   "source": [
    "## **PART 2 - Analyzing Genres**"
   ]
  },
  {
   "cell_type": "code",
   "execution_count": 19,
   "id": "7e884851-ec43-4e67-a0de-0b51cc255ea8",
   "metadata": {
    "execution": {
     "iopub.execute_input": "2023-11-27T23:19:14.397229Z",
     "iopub.status.busy": "2023-11-27T23:19:14.397007Z",
     "iopub.status.idle": "2023-11-27T23:19:15.227102Z",
     "shell.execute_reply": "2023-11-27T23:19:15.226048Z",
     "shell.execute_reply.started": "2023-11-27T23:19:14.397208Z"
    },
    "tags": []
   },
   "outputs": [
    {
     "data": {
      "application/vnd.jupyter.widget-view+json": {
       "model_id": "2e46897869cd44fcb624aa4994ff43fa",
       "version_major": 2,
       "version_minor": 0
      },
      "text/plain": [
       "VBox()"
      ]
     },
     "metadata": {},
     "output_type": "display_data"
    },
    {
     "data": {
      "application/vnd.jupyter.widget-view+json": {
       "model_id": "",
       "version_major": 2,
       "version_minor": 0
      },
      "text/plain": [
       "FloatProgress(value=0.0, bar_style='info', description='Progress:', layout=Layout(height='25px', width='50%'),…"
      ]
     },
     "metadata": {},
     "output_type": "display_data"
    },
    {
     "name": "stdout",
     "output_type": "stream",
     "text": [
      "+---------+---------+-----------+\n",
      "|   tconst|titleType|      genre|\n",
      "+---------+---------+-----------+\n",
      "|tt0000001|    short|Documentary|\n",
      "|tt0000001|    short|      Short|\n",
      "|tt0000002|    short|  Animation|\n",
      "|tt0000002|    short|      Short|\n",
      "|tt0000003|    short|  Animation|\n",
      "+---------+---------+-----------+\n",
      "only showing top 5 rows"
     ]
    }
   ],
   "source": [
    "# Split the genres column into an array of genres and selectExpr to explode\n",
    "genres_association = genres.selectExpr('tconst', 'titleType', 'explode(split(genres, \",\")) as genre')\n",
    "\n",
    "# Show the result\n",
    "genres_association.show(5)"
   ]
  },
  {
   "cell_type": "code",
   "execution_count": 20,
   "id": "1c625465-1fea-4f5a-aec5-a3019b9cb478",
   "metadata": {
    "execution": {
     "iopub.execute_input": "2023-11-27T23:19:15.234360Z",
     "iopub.status.busy": "2023-11-27T23:19:15.234010Z",
     "iopub.status.idle": "2023-11-27T23:19:15.502450Z",
     "shell.execute_reply": "2023-11-27T23:19:15.501577Z",
     "shell.execute_reply.started": "2023-11-27T23:19:15.234325Z"
    }
   },
   "outputs": [
    {
     "data": {
      "application/vnd.jupyter.widget-view+json": {
       "model_id": "1cafea6fcf194096b162d593fa012241",
       "version_major": 2,
       "version_minor": 0
      },
      "text/plain": [
       "VBox()"
      ]
     },
     "metadata": {},
     "output_type": "display_data"
    },
    {
     "data": {
      "application/vnd.jupyter.widget-view+json": {
       "model_id": "",
       "version_major": 2,
       "version_minor": 0
      },
      "text/plain": [
       "FloatProgress(value=0.0, bar_style='info', description='Progress:', layout=Layout(height='25px', width='50%'),…"
      ]
     },
     "metadata": {},
     "output_type": "display_data"
    },
    {
     "name": "stdout",
     "output_type": "stream",
     "text": [
      "+---------+---------+-----------+\n",
      "|   tconst|titleType|      genre|\n",
      "+---------+---------+-----------+\n",
      "|tt0000001|    short|Documentary|\n",
      "|tt0000001|    short|      Short|\n",
      "|tt0000002|    short|  Animation|\n",
      "|tt0000002|    short|      Short|\n",
      "|tt0000003|    short|  Animation|\n",
      "|tt0000003|    short|     Comedy|\n",
      "|tt0000003|    short|    Romance|\n",
      "|tt0000004|    short|  Animation|\n",
      "|tt0000004|    short|      Short|\n",
      "|tt0000005|    short|     Comedy|\n",
      "+---------+---------+-----------+\n",
      "only showing top 10 rows"
     ]
    }
   ],
   "source": [
    "# Show the first 10 rows of the association table\n",
    "genres_association.show(10)"
   ]
  },
  {
   "cell_type": "markdown",
   "id": "5f6b267a-47bf-4629-8f9a-23c584a2b5ad",
   "metadata": {},
   "source": [
    "### **Total Unique Genres**"
   ]
  },
  {
   "cell_type": "markdown",
   "id": "82b9d840-4af8-4c79-aaad-b269a59a4a3b",
   "metadata": {},
   "source": [
    "**What is the total number of unique genres available in the movie category?**"
   ]
  },
  {
   "cell_type": "code",
   "execution_count": 21,
   "id": "e3a43f37-1f4b-4693-926b-046bd25afe83",
   "metadata": {
    "execution": {
     "iopub.execute_input": "2023-11-27T23:19:15.505725Z",
     "iopub.status.busy": "2023-11-27T23:19:15.505140Z",
     "iopub.status.idle": "2023-11-27T23:19:24.804623Z",
     "shell.execute_reply": "2023-11-27T23:19:24.803762Z",
     "shell.execute_reply.started": "2023-11-27T23:19:15.505690Z"
    },
    "tags": []
   },
   "outputs": [
    {
     "data": {
      "application/vnd.jupyter.widget-view+json": {
       "model_id": "f1d7ba1f5047439bbae7f57510e81196",
       "version_major": 2,
       "version_minor": 0
      },
      "text/plain": [
       "VBox()"
      ]
     },
     "metadata": {},
     "output_type": "display_data"
    },
    {
     "data": {
      "application/vnd.jupyter.widget-view+json": {
       "model_id": "",
       "version_major": 2,
       "version_minor": 0
      },
      "text/plain": [
       "FloatProgress(value=0.0, bar_style='info', description='Progress:', layout=Layout(height='25px', width='50%'),…"
      ]
     },
     "metadata": {},
     "output_type": "display_data"
    },
    {
     "name": "stdout",
     "output_type": "stream",
     "text": [
      "29"
     ]
    }
   ],
   "source": [
    "# Extract genres from the association table\n",
    "unique_genres = genres_association.select('genre').distinct()\n",
    "\n",
    "# Count the number of unique genres\n",
    "total_unique_genres = unique_genres.count()\n",
    "\n",
    "# Show the result\n",
    "total_unique_genres"
   ]
  },
  {
   "cell_type": "markdown",
   "id": "237b63fb-c588-43df-bbd9-fcbdbe576b5d",
   "metadata": {},
   "source": [
    "**What are the unique genres available?**"
   ]
  },
  {
   "cell_type": "code",
   "execution_count": 22,
   "id": "211527c2-334a-4ab7-802c-719b9317ca4f",
   "metadata": {
    "execution": {
     "iopub.execute_input": "2023-11-27T23:19:24.806417Z",
     "iopub.status.busy": "2023-11-27T23:19:24.805822Z",
     "iopub.status.idle": "2023-11-27T23:19:34.112414Z",
     "shell.execute_reply": "2023-11-27T23:19:34.111720Z",
     "shell.execute_reply.started": "2023-11-27T23:19:24.806382Z"
    }
   },
   "outputs": [
    {
     "data": {
      "application/vnd.jupyter.widget-view+json": {
       "model_id": "bf6c50e2d49f484fbaf0a170087358b9",
       "version_major": 2,
       "version_minor": 0
      },
      "text/plain": [
       "VBox()"
      ]
     },
     "metadata": {},
     "output_type": "display_data"
    },
    {
     "data": {
      "application/vnd.jupyter.widget-view+json": {
       "model_id": "",
       "version_major": 2,
       "version_minor": 0
      },
      "text/plain": [
       "FloatProgress(value=0.0, bar_style='info', description='Progress:', layout=Layout(height='25px', width='50%'),…"
      ]
     },
     "metadata": {},
     "output_type": "display_data"
    },
    {
     "name": "stdout",
     "output_type": "stream",
     "text": [
      "+-----------+\n",
      "|genre      |\n",
      "+-----------+\n",
      "|Mystery    |\n",
      "|Musical    |\n",
      "|Sport      |\n",
      "|Action     |\n",
      "|Talk-Show  |\n",
      "|Romance    |\n",
      "|Thriller   |\n",
      "|\\N         |\n",
      "|Reality-TV |\n",
      "|Family     |\n",
      "|Fantasy    |\n",
      "|History    |\n",
      "|Animation  |\n",
      "|Film-Noir  |\n",
      "|Short      |\n",
      "|Sci-Fi     |\n",
      "|News       |\n",
      "|Drama      |\n",
      "|Documentary|\n",
      "|Western    |\n",
      "+-----------+\n",
      "only showing top 20 rows"
     ]
    }
   ],
   "source": [
    "# Extract unique genres from the association table\n",
    "unique_genres = genres_association.select('genre').distinct()\n",
    "\n",
    "# Show the result\n",
    "unique_genres.show(truncate=False)"
   ]
  },
  {
   "cell_type": "markdown",
   "id": "1da105df-0220-4295-accf-995e143f18c3",
   "metadata": {
    "execution": {
     "iopub.execute_input": "2023-11-21T20:31:32.547799Z",
     "iopub.status.busy": "2023-11-21T20:31:32.547503Z",
     "iopub.status.idle": "2023-11-21T20:31:32.599444Z",
     "shell.execute_reply": "2023-11-21T20:31:32.598738Z",
     "shell.execute_reply.started": "2023-11-21T20:31:32.547775Z"
    }
   },
   "source": [
    "**Oops! Something is off!**"
   ]
  },
  {
   "cell_type": "code",
   "execution_count": 23,
   "id": "96d7f78a-7999-41a1-bc89-a0557223a948",
   "metadata": {
    "execution": {
     "iopub.execute_input": "2023-11-27T23:19:34.113753Z",
     "iopub.status.busy": "2023-11-27T23:19:34.113525Z",
     "iopub.status.idle": "2023-11-27T23:19:43.394911Z",
     "shell.execute_reply": "2023-11-27T23:19:43.394095Z",
     "shell.execute_reply.started": "2023-11-27T23:19:34.113732Z"
    },
    "tags": []
   },
   "outputs": [
    {
     "data": {
      "application/vnd.jupyter.widget-view+json": {
       "model_id": "fa5b0aba4bde46e2acb8fa310ab2d6dd",
       "version_major": 2,
       "version_minor": 0
      },
      "text/plain": [
       "VBox()"
      ]
     },
     "metadata": {},
     "output_type": "display_data"
    },
    {
     "data": {
      "application/vnd.jupyter.widget-view+json": {
       "model_id": "",
       "version_major": 2,
       "version_minor": 0
      },
      "text/plain": [
       "FloatProgress(value=0.0, bar_style='info', description='Progress:', layout=Layout(height='25px', width='50%'),…"
      ]
     },
     "metadata": {},
     "output_type": "display_data"
    },
    {
     "name": "stdout",
     "output_type": "stream",
     "text": [
      "+-----------+\n",
      "|genre      |\n",
      "+-----------+\n",
      "|Mystery    |\n",
      "|Musical    |\n",
      "|Sport      |\n",
      "|Action     |\n",
      "|Talk-Show  |\n",
      "|Romance    |\n",
      "|Thriller   |\n",
      "|Reality-TV |\n",
      "|Family     |\n",
      "|Fantasy    |\n",
      "|History    |\n",
      "|Animation  |\n",
      "|Film-Noir  |\n",
      "|Short      |\n",
      "|Sci-Fi     |\n",
      "|News       |\n",
      "|Drama      |\n",
      "|Documentary|\n",
      "|Western    |\n",
      "|Comedy     |\n",
      "+-----------+\n",
      "only showing top 20 rows"
     ]
    }
   ],
   "source": [
    "# Extract unique genres from the association table excluding \"\\N\"\n",
    "unique_genres = genres_association.filter(genres_association.genre != \"\\\\N\").select('genre').distinct()\n",
    "\n",
    "# Show the result with top 20 genres\n",
    "unique_genres.show(20, truncate=False)"
   ]
  },
  {
   "cell_type": "markdown",
   "id": "150fc1f4-0a2a-484f-97c8-3e016f0b0ec0",
   "metadata": {
    "execution": {
     "iopub.execute_input": "2023-11-21T20:33:25.376679Z",
     "iopub.status.busy": "2023-11-21T20:33:25.376386Z",
     "iopub.status.idle": "2023-11-21T20:33:25.417639Z",
     "shell.execute_reply": "2023-11-21T20:33:25.416989Z",
     "shell.execute_reply.started": "2023-11-21T20:33:25.376655Z"
    }
   },
   "source": [
    "**Revised: What is the total number of unique genres available in the movie category?**"
   ]
  },
  {
   "cell_type": "code",
   "execution_count": 24,
   "id": "2c001cf4-8400-4020-96b4-2da814bf0a44",
   "metadata": {
    "execution": {
     "iopub.execute_input": "2023-11-27T23:19:43.396582Z",
     "iopub.status.busy": "2023-11-27T23:19:43.396242Z",
     "iopub.status.idle": "2023-11-27T23:19:52.705739Z",
     "shell.execute_reply": "2023-11-27T23:19:52.705066Z",
     "shell.execute_reply.started": "2023-11-27T23:19:43.396547Z"
    }
   },
   "outputs": [
    {
     "data": {
      "application/vnd.jupyter.widget-view+json": {
       "model_id": "22a82e738f444838bc68d51a0cceb5d7",
       "version_major": 2,
       "version_minor": 0
      },
      "text/plain": [
       "VBox()"
      ]
     },
     "metadata": {},
     "output_type": "display_data"
    },
    {
     "data": {
      "application/vnd.jupyter.widget-view+json": {
       "model_id": "",
       "version_major": 2,
       "version_minor": 0
      },
      "text/plain": [
       "FloatProgress(value=0.0, bar_style='info', description='Progress:', layout=Layout(height='25px', width='50%'),…"
      ]
     },
     "metadata": {},
     "output_type": "display_data"
    },
    {
     "name": "stdout",
     "output_type": "stream",
     "text": [
      "28"
     ]
    }
   ],
   "source": [
    "# Count the number of unique genres\n",
    "total_unique_genres = unique_genres.count()\n",
    "\n",
    "# Show the result\n",
    "total_unique_genres"
   ]
  },
  {
   "cell_type": "markdown",
   "id": "fa688d52-e18c-4a4f-9a22-aabdda587ad2",
   "metadata": {},
   "source": [
    "### **Top Genres by Movies**\n",
    "\n",
    "Now let's find the highest rated genres in this dataset by rolling up genres."
   ]
  },
  {
   "cell_type": "markdown",
   "id": "77c98c4a-8135-460a-9365-5631cea52507",
   "metadata": {
    "execution": {
     "iopub.execute_input": "2023-11-21T20:39:56.309124Z",
     "iopub.status.busy": "2023-11-21T20:39:56.308762Z",
     "iopub.status.idle": "2023-11-21T20:39:56.357807Z",
     "shell.execute_reply": "2023-11-21T20:39:56.357097Z",
     "shell.execute_reply.started": "2023-11-21T20:39:56.309094Z"
    }
   },
   "source": [
    "#### **Average Rating / Genre**"
   ]
  },
  {
   "cell_type": "markdown",
   "id": "f523db86-7566-467f-8d21-aecad316a016",
   "metadata": {
    "execution": {
     "iopub.execute_input": "2023-11-25T23:39:35.424073Z",
     "iopub.status.busy": "2023-11-25T23:39:35.423705Z",
     "iopub.status.idle": "2023-11-25T23:39:35.475400Z",
     "shell.execute_reply": "2023-11-25T23:39:35.474738Z",
     "shell.execute_reply.started": "2023-11-25T23:39:35.424043Z"
    }
   },
   "source": [
    "First, lets join our two dataframes (movie ratings and genres) by tconst."
   ]
  },
  {
   "cell_type": "code",
   "execution_count": 25,
   "id": "d883dbb5-4f85-4a6b-9002-d6d1268d720a",
   "metadata": {
    "execution": {
     "iopub.execute_input": "2023-11-27T23:19:52.706863Z",
     "iopub.status.busy": "2023-11-27T23:19:52.706640Z",
     "iopub.status.idle": "2023-11-27T23:20:06.061371Z",
     "shell.execute_reply": "2023-11-27T23:20:06.060601Z",
     "shell.execute_reply.started": "2023-11-27T23:19:52.706842Z"
    },
    "tags": []
   },
   "outputs": [
    {
     "data": {
      "application/vnd.jupyter.widget-view+json": {
       "model_id": "8c3bc7f4a4154ac3a76c2d985686e901",
       "version_major": 2,
       "version_minor": 0
      },
      "text/plain": [
       "VBox()"
      ]
     },
     "metadata": {},
     "output_type": "display_data"
    },
    {
     "data": {
      "application/vnd.jupyter.widget-view+json": {
       "model_id": "",
       "version_major": 2,
       "version_minor": 0
      },
      "text/plain": [
       "FloatProgress(value=0.0, bar_style='info', description='Progress:', layout=Layout(height='25px', width='50%'),…"
      ]
     },
     "metadata": {},
     "output_type": "display_data"
    },
    {
     "name": "stdout",
     "output_type": "stream",
     "text": [
      "+---------+-------------+\n",
      "|    genre|averageRating|\n",
      "+---------+-------------+\n",
      "|Animation|          6.4|\n",
      "|    Short|          6.4|\n",
      "|    Drama|          7.1|\n",
      "|    Short|          7.1|\n",
      "|   Action|          5.9|\n",
      "|  Fantasy|          6.4|\n",
      "|   Horror|          6.4|\n",
      "|   Comedy|          7.0|\n",
      "|   Horror|          7.0|\n",
      "|    Short|          7.0|\n",
      "+---------+-------------+\n",
      "only showing top 10 rows"
     ]
    }
   ],
   "source": [
    "# Join the movie_ratings and genres dataframes on tconst\n",
    "joined_data = movie_ratings.join(genres_association, movie_ratings.tconst == genres_association.tconst)\n",
    "\n",
    "# Select only the desired columns\n",
    "result = joined_data.select(\"genre\", \"averageRating\")\n",
    "\n",
    "# Show the first 10 rows of the result\n",
    "result.show(10)"
   ]
  },
  {
   "cell_type": "markdown",
   "id": "311875c0-7963-4bd9-8247-e81810cd6014",
   "metadata": {},
   "source": [
    "##### Now let's aggregate along the averageRating column to get a resultant dataframe that displays average rating per genre."
   ]
  },
  {
   "cell_type": "code",
   "execution_count": 26,
   "id": "82203db5-6ff7-4b33-9605-1e9aeaaa8dc2",
   "metadata": {
    "execution": {
     "iopub.execute_input": "2023-11-27T23:20:06.062986Z",
     "iopub.status.busy": "2023-11-27T23:20:06.062655Z",
     "iopub.status.idle": "2023-11-27T23:20:19.366090Z",
     "shell.execute_reply": "2023-11-27T23:20:19.361678Z",
     "shell.execute_reply.started": "2023-11-27T23:20:06.062952Z"
    },
    "tags": []
   },
   "outputs": [
    {
     "data": {
      "application/vnd.jupyter.widget-view+json": {
       "model_id": "1c57da16edde482cb0b1175bdbcdffda",
       "version_major": 2,
       "version_minor": 0
      },
      "text/plain": [
       "VBox()"
      ]
     },
     "metadata": {},
     "output_type": "display_data"
    },
    {
     "data": {
      "application/vnd.jupyter.widget-view+json": {
       "model_id": "",
       "version_major": 2,
       "version_minor": 0
      },
      "text/plain": [
       "FloatProgress(value=0.0, bar_style='info', description='Progress:', layout=Layout(height='25px', width='50%'),…"
      ]
     },
     "metadata": {},
     "output_type": "display_data"
    },
    {
     "name": "stdout",
     "output_type": "stream",
     "text": [
      "+-----------+------------------+\n",
      "|genre      |averageRating     |\n",
      "+-----------+------------------+\n",
      "|Mystery    |7.215679885737241 |\n",
      "|Musical    |6.544660194174757 |\n",
      "|Action     |6.95102943855904  |\n",
      "|Sport      |6.995047301057318 |\n",
      "|Talk-Show  |6.5984121590312315|\n",
      "|Romance    |6.78424816362804  |\n",
      "|Thriller   |6.312686079259711 |\n",
      "|Reality-TV |6.838867003894538 |\n",
      "|Family     |6.989731258092649 |\n",
      "|Fantasy    |7.093731229320441 |\n",
      "|History    |7.304633656741387 |\n",
      "|Animation  |7.046786054557056 |\n",
      "|Film-Noir  |6.636246786632391 |\n",
      "|Short      |6.799363498526124 |\n",
      "|Sci-Fi     |6.747496248735035 |\n",
      "|News       |6.467539496781745 |\n",
      "|Drama      |7.018453629522856 |\n",
      "|Documentary|7.2417405764966745|\n",
      "|Western    |7.109783409459261 |\n",
      "|Comedy     |6.919198961910334 |\n",
      "+-----------+------------------+\n",
      "only showing top 20 rows"
     ]
    }
   ],
   "source": [
    "# Group by genre and calculate the average rating\n",
    "average_ratings_per_genre = joined_data.groupBy('genre').agg(avg('averageRating').alias('averageRating'))\n",
    "\n",
    "# Exclude rows where 'genre' is \"\\N\"\n",
    "average_ratings_per_genre = average_ratings_per_genre.filter(col('genre') != \"\\\\N\")\n",
    "\n",
    "# Show the result\n",
    "average_ratings_per_genre.show(truncate=False)"
   ]
  },
  {
   "cell_type": "markdown",
   "id": "ea8e51e8-327e-4a72-b148-e5798925022a",
   "metadata": {},
   "source": [
    "### **Horizontal Bar Chart of Top Genres**\n",
    "\n",
    "With this data available, let us now build a barchart of all genres"
   ]
  },
  {
   "cell_type": "code",
   "execution_count": 27,
   "id": "01058cf2-084b-496f-805f-511effc76003",
   "metadata": {
    "execution": {
     "iopub.execute_input": "2023-11-27T23:20:19.370239Z",
     "iopub.status.busy": "2023-11-27T23:20:19.369988Z",
     "iopub.status.idle": "2023-11-27T23:20:32.883781Z",
     "shell.execute_reply": "2023-11-27T23:20:32.882964Z",
     "shell.execute_reply.started": "2023-11-27T23:20:19.370216Z"
    },
    "tags": []
   },
   "outputs": [
    {
     "data": {
      "application/vnd.jupyter.widget-view+json": {
       "model_id": "a7bc616a13574a44bd61e5178f0f3454",
       "version_major": 2,
       "version_minor": 0
      },
      "text/plain": [
       "VBox()"
      ]
     },
     "metadata": {},
     "output_type": "display_data"
    },
    {
     "data": {
      "application/vnd.jupyter.widget-view+json": {
       "model_id": "",
       "version_major": 2,
       "version_minor": 0
      },
      "text/plain": [
       "FloatProgress(value=0.0, bar_style='info', description='Progress:', layout=Layout(height='25px', width='50%'),…"
      ]
     },
     "metadata": {},
     "output_type": "display_data"
    },
    {
     "data": {
      "image/png": "[encoded data removed]",
      "text/plain": [
       "<IPython.core.display.Image object>"
      ]
     },
     "metadata": {},
     "output_type": "display_data"
    }
   ],
   "source": [
    "# Convert the PySpark DataFrame to a Pandas DataFrame for plotting\n",
    "pd_df = average_ratings_per_genre.toPandas()\n",
    "\n",
    "# Sort the DataFrame by averageRating in descending order\n",
    "pd_df = pd_df.sort_values(by='averageRating')\n",
    "\n",
    "# Display the horizontal bar chart\n",
    "plt.figure(figsize=(10, 8))\n",
    "plt.barh(pd_df['genre'], pd_df['averageRating'], color='goldenrod')\n",
    "plt.xlabel('Average Rating')\n",
    "plt.ylabel('Genre')\n",
    "plt.title('Top Genres in the Movie Category')\n",
    "plt.show()\n",
    "\n",
    "%matplot plt"
   ]
  },
  {
   "cell_type": "markdown",
   "id": "5ce4953a-fd57-4d82-8ec5-41c58b30466d",
   "metadata": {},
   "source": [
    "## **PART 3 - Analyzing Job Categories**"
   ]
  },
  {
   "cell_type": "markdown",
   "id": "f1be4cb3-db21-4c59-96a6-06a6cf3fc082",
   "metadata": {
    "execution": {
     "iopub.execute_input": "2023-11-21T20:59:59.463211Z",
     "iopub.status.busy": "2023-11-21T20:59:59.462896Z",
     "iopub.status.idle": "2023-11-21T20:59:59.507491Z",
     "shell.execute_reply": "2023-11-21T20:59:59.506541Z",
     "shell.execute_reply.started": "2023-11-21T20:59:59.463183Z"
    }
   },
   "source": [
    "**What is the total number of unique job categories?**"
   ]
  },
  {
   "cell_type": "code",
   "execution_count": 28,
   "id": "9df7ca72-6298-4943-8562-47a015b5dd69",
   "metadata": {
    "execution": {
     "iopub.execute_input": "2023-11-27T23:20:32.885422Z",
     "iopub.status.busy": "2023-11-27T23:20:32.885089Z",
     "iopub.status.idle": "2023-11-27T23:20:33.134985Z",
     "shell.execute_reply": "2023-11-27T23:20:33.133991Z",
     "shell.execute_reply.started": "2023-11-27T23:20:32.885387Z"
    },
    "tags": []
   },
   "outputs": [
    {
     "data": {
      "application/vnd.jupyter.widget-view+json": {
       "model_id": "388b6ae7a1db4faa811b78633d93b0b0",
       "version_major": 2,
       "version_minor": 0
      },
      "text/plain": [
       "VBox()"
      ]
     },
     "metadata": {},
     "output_type": "display_data"
    },
    {
     "data": {
      "application/vnd.jupyter.widget-view+json": {
       "model_id": "",
       "version_major": 2,
       "version_minor": 0
      },
      "text/plain": [
       "FloatProgress(value=0.0, bar_style='info', description='Progress:', layout=Layout(height='25px', width='50%'),…"
      ]
     },
     "metadata": {},
     "output_type": "display_data"
    },
    {
     "name": "stdout",
     "output_type": "stream",
     "text": [
      "+---------+---------------+\n",
      "|tconst   |category       |\n",
      "+---------+---------------+\n",
      "|tt0000001|self           |\n",
      "|tt0000001|director       |\n",
      "|tt0000001|cinematographer|\n",
      "|tt0000002|director       |\n",
      "|tt0000002|composer       |\n",
      "+---------+---------------+"
     ]
    }
   ],
   "source": [
    "categories = movie_actors.limit(5).select(\"tconst\", \"category\")\n",
    "\n",
    "# Show the result\n",
    "categories.show(truncate=False)"
   ]
  },
  {
   "cell_type": "code",
   "execution_count": 29,
   "id": "71ad61bb-4445-43bd-86e9-ac832bdfe816",
   "metadata": {
    "execution": {
     "iopub.execute_input": "2023-11-27T23:20:33.136778Z",
     "iopub.status.busy": "2023-11-27T23:20:33.136466Z",
     "iopub.status.idle": "2023-11-27T23:20:58.472085Z",
     "shell.execute_reply": "2023-11-27T23:20:58.471353Z",
     "shell.execute_reply.started": "2023-11-27T23:20:33.136745Z"
    },
    "tags": []
   },
   "outputs": [
    {
     "data": {
      "application/vnd.jupyter.widget-view+json": {
       "model_id": "8042f453685546c1b88a6b6a542c817f",
       "version_major": 2,
       "version_minor": 0
      },
      "text/plain": [
       "VBox()"
      ]
     },
     "metadata": {},
     "output_type": "display_data"
    },
    {
     "data": {
      "application/vnd.jupyter.widget-view+json": {
       "model_id": "",
       "version_major": 2,
       "version_minor": 0
      },
      "text/plain": [
       "FloatProgress(value=0.0, bar_style='info', description='Progress:', layout=Layout(height='25px', width='50%'),…"
      ]
     },
     "metadata": {},
     "output_type": "display_data"
    },
    {
     "name": "stdout",
     "output_type": "stream",
     "text": [
      "12"
     ]
    }
   ],
   "source": [
    "total_unique_categories_count = movie_actors.select('category').distinct().count()\n",
    "\n",
    "# Show the result\n",
    "total_unique_categories_count"
   ]
  },
  {
   "cell_type": "markdown",
   "id": "73802996-b4b2-445a-bf09-7f38701ebc2a",
   "metadata": {},
   "source": [
    "**What are the unique job categories available?**"
   ]
  },
  {
   "cell_type": "code",
   "execution_count": 30,
   "id": "09180654-652b-413a-b0ef-0176f699a546",
   "metadata": {
    "execution": {
     "iopub.execute_input": "2023-11-27T23:20:58.473340Z",
     "iopub.status.busy": "2023-11-27T23:20:58.473112Z",
     "iopub.status.idle": "2023-11-27T23:21:23.793469Z",
     "shell.execute_reply": "2023-11-27T23:21:23.792789Z",
     "shell.execute_reply.started": "2023-11-27T23:20:58.473318Z"
    }
   },
   "outputs": [
    {
     "data": {
      "application/vnd.jupyter.widget-view+json": {
       "model_id": "086b2a32684a478a93681046c76829e9",
       "version_major": 2,
       "version_minor": 0
      },
      "text/plain": [
       "VBox()"
      ]
     },
     "metadata": {},
     "output_type": "display_data"
    },
    {
     "data": {
      "application/vnd.jupyter.widget-view+json": {
       "model_id": "",
       "version_major": 2,
       "version_minor": 0
      },
      "text/plain": [
       "FloatProgress(value=0.0, bar_style='info', description='Progress:', layout=Layout(height='25px', width='50%'),…"
      ]
     },
     "metadata": {},
     "output_type": "display_data"
    },
    {
     "name": "stdout",
     "output_type": "stream",
     "text": [
      "+-------------------+\n",
      "|           category|\n",
      "+-------------------+\n",
      "|            actress|\n",
      "|           producer|\n",
      "|production_designer|\n",
      "|             writer|\n",
      "|              actor|\n",
      "|    cinematographer|\n",
      "|      archive_sound|\n",
      "|    archive_footage|\n",
      "|               self|\n",
      "|             editor|\n",
      "|           composer|\n",
      "|           director|\n",
      "+-------------------+"
     ]
    }
   ],
   "source": [
    "# Select distinct categories\n",
    "total_unique_categories = movie_actors.select('category').distinct()\n",
    "\n",
    "# Show the result DataFrame\n",
    "total_unique_categories.show()"
   ]
  },
  {
   "cell_type": "markdown",
   "id": "a5790dbc-54e8-4ddc-a8bc-50327ca81b74",
   "metadata": {
    "execution": {
     "iopub.execute_input": "2023-11-21T21:18:40.159082Z",
     "iopub.status.busy": "2023-11-21T21:18:40.158783Z",
     "iopub.status.idle": "2023-11-21T21:18:40.209093Z",
     "shell.execute_reply": "2023-11-21T21:18:40.208306Z",
     "shell.execute_reply.started": "2023-11-21T21:18:40.159057Z"
    }
   },
   "source": [
    "### **Top Job Categories**"
   ]
  },
  {
   "cell_type": "markdown",
   "id": "6015ae56-43f1-43a7-924a-031aa60fe4e7",
   "metadata": {},
   "source": [
    "Now let's find the top job categories in this dataset by rolling up categories."
   ]
  },
  {
   "cell_type": "markdown",
   "id": "90c497ab-50b2-4d4f-b834-d4df32675903",
   "metadata": {},
   "source": [
    "#### **Counts of Titles / Job Category**"
   ]
  },
  {
   "cell_type": "code",
   "execution_count": 31,
   "id": "22ecdb1e-42a2-4690-9d3c-ca91cf2e521e",
   "metadata": {
    "execution": {
     "iopub.execute_input": "2023-11-27T23:21:23.795048Z",
     "iopub.status.busy": "2023-11-27T23:21:23.794723Z",
     "iopub.status.idle": "2023-11-27T23:21:49.111319Z",
     "shell.execute_reply": "2023-11-27T23:21:49.110634Z",
     "shell.execute_reply.started": "2023-11-27T23:21:23.795014Z"
    }
   },
   "outputs": [
    {
     "data": {
      "application/vnd.jupyter.widget-view+json": {
       "model_id": "eea3163c915e46118b196dc5590f3cad",
       "version_major": 2,
       "version_minor": 0
      },
      "text/plain": [
       "VBox()"
      ]
     },
     "metadata": {},
     "output_type": "display_data"
    },
    {
     "data": {
      "application/vnd.jupyter.widget-view+json": {
       "model_id": "",
       "version_major": 2,
       "version_minor": 0
      },
      "text/plain": [
       "FloatProgress(value=0.0, bar_style='info', description='Progress:', layout=Layout(height='25px', width='50%'),…"
      ]
     },
     "metadata": {},
     "output_type": "display_data"
    },
    {
     "name": "stdout",
     "output_type": "stream",
     "text": [
      "+-------------------+--------------+\n",
      "|category           |category_count|\n",
      "+-------------------+--------------+\n",
      "|actress            |6325097       |\n",
      "|producer           |2197866       |\n",
      "|production_designer|285924        |\n",
      "|writer             |4811596       |\n",
      "|actor              |8493701       |\n",
      "|cinematographer    |1300404       |\n",
      "|archive_sound      |2143          |\n",
      "|archive_footage    |209035        |\n",
      "|self               |6153089       |\n",
      "|editor             |1197669       |\n",
      "|composer           |1313187       |\n",
      "|director           |4179106       |\n",
      "+-------------------+--------------+"
     ]
    }
   ],
   "source": [
    "# Group by category and count occurrences\n",
    "top_categories = movie_actors.groupBy('category').count()\n",
    "\n",
    "# Rename the count column\n",
    "top_categories = top_categories.withColumnRenamed('count', 'category_count')\n",
    "\n",
    "# Show the result\n",
    "top_categories.show(truncate=False)"
   ]
  },
  {
   "cell_type": "code",
   "execution_count": 32,
   "id": "efa21af7-bb11-4262-b6cd-2320a76c55d1",
   "metadata": {
    "execution": {
     "iopub.execute_input": "2023-11-27T23:21:49.112573Z",
     "iopub.status.busy": "2023-11-27T23:21:49.112352Z",
     "iopub.status.idle": "2023-11-27T23:22:14.430287Z",
     "shell.execute_reply": "2023-11-27T23:22:14.429613Z",
     "shell.execute_reply.started": "2023-11-27T23:21:49.112552Z"
    }
   },
   "outputs": [
    {
     "data": {
      "application/vnd.jupyter.widget-view+json": {
       "model_id": "6472e4db5a8546a480c98589efc0a6de",
       "version_major": 2,
       "version_minor": 0
      },
      "text/plain": [
       "VBox()"
      ]
     },
     "metadata": {},
     "output_type": "display_data"
    },
    {
     "data": {
      "application/vnd.jupyter.widget-view+json": {
       "model_id": "",
       "version_major": 2,
       "version_minor": 0
      },
      "text/plain": [
       "FloatProgress(value=0.0, bar_style='info', description='Progress:', layout=Layout(height='25px', width='50%'),…"
      ]
     },
     "metadata": {},
     "output_type": "display_data"
    },
    {
     "name": "stdout",
     "output_type": "stream",
     "text": [
      "+-------------------+--------------+\n",
      "|category           |category_count|\n",
      "+-------------------+--------------+\n",
      "|actor              |8493701       |\n",
      "|actress            |6325097       |\n",
      "|self               |6153089       |\n",
      "|writer             |4811596       |\n",
      "|director           |4179106       |\n",
      "|producer           |2197866       |\n",
      "|composer           |1313187       |\n",
      "|cinematographer    |1300404       |\n",
      "|editor             |1197669       |\n",
      "|production_designer|285924        |\n",
      "|archive_footage    |209035        |\n",
      "|archive_sound      |2143          |\n",
      "+-------------------+--------------+"
     ]
    }
   ],
   "source": [
    "# Group by category and count occurrences, then order by count in descending order\n",
    "top_categories = movie_actors.groupBy('category').count().orderBy(col('count').desc())\n",
    "\n",
    "# Rename the count column\n",
    "top_categories = top_categories.withColumnRenamed('count', 'category_count')\n",
    "\n",
    "# Show the result\n",
    "top_categories.show(truncate=False)"
   ]
  },
  {
   "cell_type": "markdown",
   "id": "e1e87ec7-949c-48ad-8103-2cfba602fc0a",
   "metadata": {},
   "source": [
    "### **Bar Chart of Top Job Categories**\n",
    "\n",
    "With this data available, let us now build a barchart of the top 5 categories. "
   ]
  },
  {
   "cell_type": "code",
   "execution_count": 33,
   "id": "9c702af9-3906-469b-b054-a70513e5f442",
   "metadata": {
    "execution": {
     "iopub.execute_input": "2023-11-27T23:22:14.431410Z",
     "iopub.status.busy": "2023-11-27T23:22:14.431185Z",
     "iopub.status.idle": "2023-11-27T23:22:39.753744Z",
     "shell.execute_reply": "2023-11-27T23:22:39.752948Z",
     "shell.execute_reply.started": "2023-11-27T23:22:14.431389Z"
    },
    "tags": []
   },
   "outputs": [
    {
     "data": {
      "application/vnd.jupyter.widget-view+json": {
       "model_id": "930dad6df01e41a8b3878dcef63e6714",
       "version_major": 2,
       "version_minor": 0
      },
      "text/plain": [
       "VBox()"
      ]
     },
     "metadata": {},
     "output_type": "display_data"
    },
    {
     "data": {
      "application/vnd.jupyter.widget-view+json": {
       "model_id": "",
       "version_major": 2,
       "version_minor": 0
      },
      "text/plain": [
       "FloatProgress(value=0.0, bar_style='info', description='Progress:', layout=Layout(height='25px', width='50%'),…"
      ]
     },
     "metadata": {},
     "output_type": "display_data"
    },
    {
     "data": {
      "image/png": "[encoded data removed]",
      "text/plain": [
       "<IPython.core.display.Image object>"
      ]
     },
     "metadata": {},
     "output_type": "display_data"
    }
   ],
   "source": [
    "# Convert the PySpark DataFrame to a Pandas DataFrame for plotting\n",
    "pd_df = top_categories.limit(5).toPandas()\n",
    "\n",
    "# Display the bar chart\n",
    "plt.figure(figsize=(10, 6))\n",
    "plt.bar(pd_df['category'], pd_df['category_count'], color='orangered')\n",
    "plt.xlabel('Job Category')\n",
    "plt.ylabel('Count')\n",
    "plt.title('Top 5 Job Categories')\n",
    "plt.show()\n",
    "\n",
    "%matplot plt"
   ]
  },
  {
   "cell_type": "markdown",
   "id": "b2fda7ed-d7fa-4a0c-bfe6-fe24b8412154",
   "metadata": {},
   "source": [
    "## **PART 4 - Answer to the following questions:**"
   ]
  },
  {
   "cell_type": "markdown",
   "id": "136accbe-4459-403d-aa41-4c3d9cbd07b1",
   "metadata": {},
   "source": [
    "First join actors, genres, and movie actors and movie_reviews on each other to create new_df."
   ]
  },
  {
   "cell_type": "code",
   "execution_count": 34,
   "id": "2caefede-194c-44d1-b5be-312bc3bbc998",
   "metadata": {
    "execution": {
     "iopub.execute_input": "2023-11-27T23:22:39.754957Z",
     "iopub.status.busy": "2023-11-27T23:22:39.754724Z",
     "iopub.status.idle": "2023-11-27T23:22:40.000333Z",
     "shell.execute_reply": "2023-11-27T23:22:39.999598Z",
     "shell.execute_reply.started": "2023-11-27T23:22:39.754935Z"
    },
    "tags": []
   },
   "outputs": [
    {
     "data": {
      "application/vnd.jupyter.widget-view+json": {
       "model_id": "ea5a5c8951cd49f08cdabb7810df1788",
       "version_major": 2,
       "version_minor": 0
      },
      "text/plain": [
       "VBox()"
      ]
     },
     "metadata": {},
     "output_type": "display_data"
    },
    {
     "data": {
      "application/vnd.jupyter.widget-view+json": {
       "model_id": "",
       "version_major": 2,
       "version_minor": 0
      },
      "text/plain": [
       "FloatProgress(value=0.0, bar_style='info', description='Progress:', layout=Layout(height='25px', width='50%'),…"
      ]
     },
     "metadata": {},
     "output_type": "display_data"
    }
   ],
   "source": [
    "# Step 1: Extract unique tconsts from all three dataframes\n",
    "tconsts_actors = actors.select(\"knownForTitles\").withColumn(\"tconst\", explode(split(\"knownForTitles\", \",\"))).select(\"tconst\").distinct()\n",
    "tconsts_genres = genres.select(\"tconst\").distinct()\n",
    "tconsts_movie_actors = movie_actors.select(\"tconst\").distinct()\n",
    "\n",
    "# Union all unique tconsts\n",
    "unique_tconsts = (tconsts_actors.union(tconsts_genres).union(tconsts_movie_actors)).distinct()\n",
    "\n",
    "# Step 2: Add corresponding 'primaryTitle', 'titleType', and 'startYear' for each tconst from genres \n",
    "new_df = unique_tconsts.join(genres.select(\"tconst\", \"primaryTitle\", \"titleType\", \"startYear\"), \"tconst\", \"left_outer\")\n",
    "\n",
    "# Step 3: Create a column 'Actor Codes' containing 'nconst' values for each 'tconst'\n",
    "actor_codes = movie_actors.groupBy(\"tconst\").agg(collect_list(\"nconst\").alias(\"Actor_Codes\"))\n",
    "\n",
    "# Step 4: Add another column named 'actor names' and 'category' from 'actors' dataframe\n",
    "new_df = new_df.join(actor_codes, \"tconst\", \"left_outer\").select(\"tconst\", \"primaryTitle\", \"titleType\", \"startYear\", \"Actor_Codes\").distinct()\n",
    "new_df = new_df.withColumn(\"Actor_Codes\", explode(\"Actor_Codes\"))  # Explode the array to have one nconst per row\n",
    "new_df = new_df.join(actors.select(\"nconst\", \"primaryName\"), new_df[\"Actor_Codes\"] == actors[\"nconst\"], \"left_outer\").groupBy(\"tconst\", \"primaryTitle\", \"titleType\", \"startYear\").agg(collect_list(\"nconst\").alias(\"Actor_Codes\"), collect_list(\"primaryName\").alias(\"actor_names\"))\n",
    "\n",
    "# Step 5: Add another column named 'averageRating' from 'movie_ratings' dataframe\n",
    "new_df = new_df.join(movie_ratings.select(\"tconst\", \"averageRating\"), \"tconst\", \"left_outer\")"
   ]
  },
  {
   "cell_type": "markdown",
   "id": "d841120f-8a44-4c8d-9d52-6cbffa8a4885",
   "metadata": {},
   "source": [
    "### **1) Find all the \"movies\" featuring \"Johnny Depp\" and \"Helena Bonham Carter\".**"
   ]
  },
  {
   "cell_type": "code",
   "execution_count": 35,
   "id": "2911078f-ed56-4b6c-b6ae-1f7c009f0f1b",
   "metadata": {
    "execution": {
     "iopub.execute_input": "2023-11-27T23:22:40.001538Z",
     "iopub.status.busy": "2023-11-27T23:22:40.001298Z",
     "iopub.status.idle": "2023-11-27T23:24:53.624789Z",
     "shell.execute_reply": "2023-11-27T23:24:53.624098Z",
     "shell.execute_reply.started": "2023-11-27T23:22:40.001515Z"
    },
    "tags": []
   },
   "outputs": [
    {
     "data": {
      "application/vnd.jupyter.widget-view+json": {
       "model_id": "841d312637504b188a993ca20e15938b",
       "version_major": 2,
       "version_minor": 0
      },
      "text/plain": [
       "VBox()"
      ]
     },
     "metadata": {},
     "output_type": "display_data"
    },
    {
     "data": {
      "application/vnd.jupyter.widget-view+json": {
       "model_id": "",
       "version_major": 2,
       "version_minor": 0
      },
      "text/plain": [
       "FloatProgress(value=0.0, bar_style='info', description='Progress:', layout=Layout(height='25px', width='50%'),…"
      ]
     },
     "metadata": {},
     "output_type": "display_data"
    },
    {
     "name": "stdout",
     "output_type": "stream",
     "text": [
      "+----------------------------------------------+\n",
      "|primaryTitle                                  |\n",
      "+----------------------------------------------+\n",
      "|Charlie and the Chocolate Factory             |\n",
      "|Dark Shadows                                  |\n",
      "|Alice Through the Looking Glass               |\n",
      "|Alice in Wonderland                           |\n",
      "|Corpse Bride                                  |\n",
      "|Sweeney Todd: The Demon Barber of Fleet Street|\n",
      "+----------------------------------------------+"
     ]
    }
   ],
   "source": [
    "# Specify the actors' names\n",
    "actor1_name = \"Johnny Depp\"\n",
    "actor2_name = \"Helena Bonham Carter\"\n",
    "\n",
    "# Filter movies with both actors and titleType is movie\n",
    "result_df = new_df.filter(\n",
    "    (array_contains(new_df.actor_names, actor1_name) & array_contains(new_df.actor_names, actor2_name)) \n",
    "    & (new_df.titleType == \"movie\")\n",
    ")\n",
    "\n",
    "# Display the resulting dataframe\n",
    "result_df.select(\"primaryTitle\").show(truncate=False)"
   ]
  },
  {
   "cell_type": "markdown",
   "id": "1a641180-90ee-4ab8-ac0b-38aab2ff07c7",
   "metadata": {
    "execution": {
     "iopub.execute_input": "2023-11-21T21:34:52.285204Z",
     "iopub.status.busy": "2023-11-21T21:34:52.284888Z",
     "iopub.status.idle": "2023-11-21T21:34:52.334982Z",
     "shell.execute_reply": "2023-11-21T21:34:52.334357Z",
     "shell.execute_reply.started": "2023-11-21T21:34:52.285178Z"
    }
   },
   "source": [
    "### **2) Find all the \"movies\" featuring \"Brad Pitt\" after 2010.**"
   ]
  },
  {
   "cell_type": "code",
   "execution_count": 36,
   "id": "ad8c3e42-723b-4b24-af1e-518b7afaf023",
   "metadata": {
    "execution": {
     "iopub.execute_input": "2023-11-27T23:24:53.626150Z",
     "iopub.status.busy": "2023-11-27T23:24:53.625912Z",
     "iopub.status.idle": "2023-11-27T23:26:53.244752Z",
     "shell.execute_reply": "2023-11-27T23:26:53.243969Z",
     "shell.execute_reply.started": "2023-11-27T23:24:53.626127Z"
    },
    "tags": []
   },
   "outputs": [
    {
     "data": {
      "application/vnd.jupyter.widget-view+json": {
       "model_id": "5c53dd0ba2ba468a944ec302d13d872f",
       "version_major": 2,
       "version_minor": 0
      },
      "text/plain": [
       "VBox()"
      ]
     },
     "metadata": {},
     "output_type": "display_data"
    },
    {
     "data": {
      "application/vnd.jupyter.widget-view+json": {
       "model_id": "",
       "version_major": 2,
       "version_minor": 0
      },
      "text/plain": [
       "FloatProgress(value=0.0, bar_style='info', description='Progress:', layout=Layout(height='25px', width='50%'),…"
      ]
     },
     "metadata": {},
     "output_type": "display_data"
    },
    {
     "name": "stdout",
     "output_type": "stream",
     "text": [
      "+---------------------------------+---------+\n",
      "|primaryTitle                     |startYear|\n",
      "+---------------------------------+---------+\n",
      "|Babylon                          |2021     |\n",
      "|Irresistible                     |2020     |\n",
      "|Kajillionaire                    |2020     |\n",
      "|Ad Astra                         |2019     |\n",
      "|The King                         |2019     |\n",
      "|Once Upon a Time ... in Hollywood|2019     |\n",
      "|Vice                             |2018     |\n",
      "|War Machine                      |2017     |\n",
      "|Voyage of Time: Life's Journey   |2016     |\n",
      "|Allied                           |2016     |\n",
      "|The Big Short                    |2015     |\n",
      "|Hitting the Apex                 |2015     |\n",
      "|By the Sea                       |2015     |\n",
      "|Fury                             |2014     |\n",
      "|Kick-Ass 2                       |2013     |\n",
      "|World War Z                      |2013     |\n",
      "|12 Years a Slave                 |2013     |\n",
      "|Killing Them Softly              |2012     |\n",
      "|The Tree of Life                 |2011     |\n",
      "|Moneyball                        |2011     |\n",
      "+---------------------------------+---------+"
     ]
    }
   ],
   "source": [
    "# Specify the actor's name and the year threshold\n",
    "actor_name = \"Brad Pitt\"\n",
    "year_threshold = 2010\n",
    "\n",
    "# Filter movies with the specified actor and after the given year\n",
    "result_df = new_df.filter((array_contains(new_df.actor_names, actor_name)) & (new_df.startYear > year_threshold) & (new_df.titleType == \"movie\"))\n",
    "\n",
    "# Order the results in descending order of startYear\n",
    "result_df = result_df.orderBy(result_df.startYear.desc())\n",
    "\n",
    "# Display the resulting dataframe\n",
    "result_df.select(\"primaryTitle\", \"startYear\").show(truncate=False)"
   ]
  },
  {
   "cell_type": "markdown",
   "id": "dae19b0c-a3e3-45b2-83c3-78acfd0b22a9",
   "metadata": {
    "execution": {
     "iopub.execute_input": "2023-11-21T21:35:18.380485Z",
     "iopub.status.busy": "2023-11-21T21:35:18.380098Z",
     "iopub.status.idle": "2023-11-21T21:35:18.428514Z",
     "shell.execute_reply": "2023-11-21T21:35:18.427809Z",
     "shell.execute_reply.started": "2023-11-21T21:35:18.380453Z"
    }
   },
   "source": [
    "### **3) What is the number of \"movies\" \"acted\" by \"Zendaya\" per year?**"
   ]
  },
  {
   "cell_type": "code",
   "execution_count": 37,
   "id": "ce37d374-86f4-40dd-8dc8-60d91348aa61",
   "metadata": {
    "execution": {
     "iopub.execute_input": "2023-11-27T23:26:53.245989Z",
     "iopub.status.busy": "2023-11-27T23:26:53.245740Z",
     "iopub.status.idle": "2023-11-27T23:27:36.615940Z",
     "shell.execute_reply": "2023-11-27T23:27:36.615228Z",
     "shell.execute_reply.started": "2023-11-27T23:26:53.245965Z"
    },
    "tags": []
   },
   "outputs": [
    {
     "data": {
      "application/vnd.jupyter.widget-view+json": {
       "model_id": "a47d26e64e7142e482e76e95f6090d46",
       "version_major": 2,
       "version_minor": 0
      },
      "text/plain": [
       "VBox()"
      ]
     },
     "metadata": {},
     "output_type": "display_data"
    },
    {
     "data": {
      "application/vnd.jupyter.widget-view+json": {
       "model_id": "",
       "version_major": 2,
       "version_minor": 0
      },
      "text/plain": [
       "FloatProgress(value=0.0, bar_style='info', description='Progress:', layout=Layout(height='25px', width='50%'),…"
      ]
     },
     "metadata": {},
     "output_type": "display_data"
    },
    {
     "name": "stdout",
     "output_type": "stream",
     "text": [
      "+---------+-----+\n",
      "|startYear|count|\n",
      "+---------+-----+\n",
      "|     2017|    1|\n",
      "|     2018|    2|\n",
      "|     2020|    1|\n",
      "+---------+-----+"
     ]
    }
   ],
   "source": [
    "# Find Zendaya's nconst\n",
    "zendaya_nconst = actors.filter((actors.primaryName == \"Zendaya\") & (actors.primaryProfession.contains(\"actress\"))).select(\"nconst\").first()[\"nconst\"]\n",
    "\n",
    "# Filter movie_actors to include only information where nconst is Zendaya's nconst and category is \"actress\"\n",
    "zendaya_movies = movie_actors.filter((movie_actors.nconst == zendaya_nconst) & (movie_actors.category == \"actress\")).select(\"tconst\")\n",
    "\n",
    "# Extract a list of tconst applying the above filter\n",
    "zendaya_movie_list = [row[\"tconst\"] for row in zendaya_movies.collect()]\n",
    "\n",
    "# Create a new DataFrame by filtering the genres DataFrame based on the list of tconst\n",
    "zendaya_movie_genres = genres.filter(genres.tconst.isin(zendaya_movie_list) & (genres.titleType == \"movie\") & (col(\"startYear\") != \"\\\\N\")).select(\"tconst\", \"startYear\")\n",
    "\n",
    "# Display a table counting tconst grouped by startYear\n",
    "result_table = zendaya_movie_genres.groupBy(\"startYear\").count().orderBy(\"startYear\")\n",
    "\n",
    "result_table.show()"
   ]
  },
  {
   "cell_type": "markdown",
   "id": "089a4049-485d-4131-8dcf-b0502d463756",
   "metadata": {
    "execution": {
     "iopub.execute_input": "2023-11-21T21:35:45.759359Z",
     "iopub.status.busy": "2023-11-21T21:35:45.759020Z",
     "iopub.status.idle": "2023-11-21T21:35:45.813911Z",
     "shell.execute_reply": "2023-11-21T21:35:45.813140Z",
     "shell.execute_reply.started": "2023-11-21T21:35:45.759298Z"
    }
   },
   "source": [
    "### **4) What are the \"movies\" by average rating greater than \"9.7\" and released in \"2019\"?**"
   ]
  },
  {
   "cell_type": "code",
   "execution_count": 38,
   "id": "3aed0461-24af-425c-8788-611191a95f56",
   "metadata": {
    "execution": {
     "iopub.execute_input": "2023-11-27T23:27:36.617075Z",
     "iopub.status.busy": "2023-11-27T23:27:36.616857Z",
     "iopub.status.idle": "2023-11-27T23:29:14.279413Z",
     "shell.execute_reply": "2023-11-27T23:29:14.278579Z",
     "shell.execute_reply.started": "2023-11-27T23:27:36.617054Z"
    },
    "tags": []
   },
   "outputs": [
    {
     "data": {
      "application/vnd.jupyter.widget-view+json": {
       "model_id": "b86601a6b89e491096585a3d94b7625b",
       "version_major": 2,
       "version_minor": 0
      },
      "text/plain": [
       "VBox()"
      ]
     },
     "metadata": {},
     "output_type": "display_data"
    },
    {
     "data": {
      "application/vnd.jupyter.widget-view+json": {
       "model_id": "",
       "version_major": 2,
       "version_minor": 0
      },
      "text/plain": [
       "FloatProgress(value=0.0, bar_style='info', description='Progress:', layout=Layout(height='25px', width='50%'),…"
      ]
     },
     "metadata": {},
     "output_type": "display_data"
    },
    {
     "name": "stdout",
     "output_type": "stream",
     "text": [
      "+----------------------------------------+-------------+\n",
      "|primaryTitle                            |averageRating|\n",
      "+----------------------------------------+-------------+\n",
      "|L'Enfant Terrible                       |10.0         |\n",
      "|The Butcher Baronet                     |10.0         |\n",
      "|Kirket                                  |10.0         |\n",
      "|Our Scripted Life                       |10.0         |\n",
      "|Love in Kilnerry                        |10.0         |\n",
      "|A Grunt's Life                          |10.0         |\n",
      "|Bu Can Var Oldugu Sürece                |10.0         |\n",
      "|A Medicine for the Mind                 |10.0         |\n",
      "|Time and motion                         |9.8          |\n",
      "|We Shall Not Die Now                    |9.8          |\n",
      "|Gini Helida Kathe                       |9.8          |\n",
      "|Randhawa                                |9.8          |\n",
      "|Kamen Rider Zi-O: Over Quartzer         |9.8          |\n",
      "|From Shock to Awe                       |9.8          |\n",
      "|Square One                              |9.8          |\n",
      "|The Cardinal                            |9.9          |\n",
      "|Puritan: All of Life to The Glory of God|9.9          |\n",
      "|Superhombre                             |9.9          |\n",
      "+----------------------------------------+-------------+"
     ]
    }
   ],
   "source": [
    "# Specify the rating, year, and title type threshold\n",
    "rating_threshold = 9.7\n",
    "year_threshold = 2019\n",
    "title_type_threshold = \"movie\"\n",
    "\n",
    "# Filter movies with the specified rating, release year, and title type\n",
    "result_df = new_df.filter((col(\"averageRating\") > rating_threshold) & (col(\"startYear\") == year_threshold) & (col(\"titleType\") == title_type_threshold))\n",
    "\n",
    "# Order the resulting DataFrame in ascending order of average rating\n",
    "result_df = result_df.orderBy(col(\"averageRating\").asc())\n",
    "\n",
    "# Display the resulting dataframe\n",
    "result_df.select(\"primaryTitle\", \"averageRating\").show(truncate=False)"
   ]
  },
  {
   "cell_type": "markdown",
   "id": "e8e7d7da-fedf-4aca-ad0d-f3f3dd95a717",
   "metadata": {},
   "source": [
    "## **Additional Analysis**"
   ]
  },
  {
   "cell_type": "markdown",
   "id": "5776bdb6-ff64-4958-8c00-2e2d0b5129b2",
   "metadata": {},
   "source": [
    "#### **Question: What are the top 10 highest-rated movies released after 2015?**\n",
    "Based on Average Ratings and Number of Votes."
   ]
  },
  {
   "cell_type": "code",
   "execution_count": 39,
   "id": "963aba8b-583d-4465-b0f7-b5b88bf0c0f0",
   "metadata": {
    "execution": {
     "iopub.execute_input": "2023-11-27T23:29:14.280654Z",
     "iopub.status.busy": "2023-11-27T23:29:14.280423Z",
     "iopub.status.idle": "2023-11-27T23:29:23.560510Z",
     "shell.execute_reply": "2023-11-27T23:29:23.559643Z",
     "shell.execute_reply.started": "2023-11-27T23:29:14.280631Z"
    },
    "tags": []
   },
   "outputs": [
    {
     "data": {
      "application/vnd.jupyter.widget-view+json": {
       "model_id": "91f49e668c164ea8a200a5cea73cd526",
       "version_major": 2,
       "version_minor": 0
      },
      "text/plain": [
       "VBox()"
      ]
     },
     "metadata": {},
     "output_type": "display_data"
    },
    {
     "data": {
      "application/vnd.jupyter.widget-view+json": {
       "model_id": "",
       "version_major": 2,
       "version_minor": 0
      },
      "text/plain": [
       "FloatProgress(value=0.0, bar_style='info', description='Progress:', layout=Layout(height='25px', width='50%'),…"
      ]
     },
     "metadata": {},
     "output_type": "display_data"
    },
    {
     "name": "stdout",
     "output_type": "stream",
     "text": [
      "+-------------------------------------------+---------+-------------+--------+\n",
      "|primaryTitle                               |startYear|averageRating|numVotes|\n",
      "+-------------------------------------------+---------+-------------+--------+\n",
      "|Puritan: All of Life to The Glory of God   |2019     |9.9          |8       |\n",
      "|Superhombre                                |2019     |9.9          |7       |\n",
      "|The Cardinal                               |2019     |9.9          |7       |\n",
      "|Randhawa                                   |2019     |9.8          |816     |\n",
      "|Hizam                                      |2016     |9.8          |6       |\n",
      "|Kamen Rider Zi-O: Over Quartzer            |2019     |9.8          |6       |\n",
      "|Internment                                 |2018     |9.8          |5       |\n",
      "|Transhumance                               |2018     |9.8          |5       |\n",
      "|Lumpinee                                   |2018     |9.8          |5       |\n",
      "|Live The Stream: The Story of Joe Humphreys|2018     |9.8          |5       |\n",
      "+-------------------------------------------+---------+-------------+--------+\n",
      "only showing top 10 rows"
     ]
    }
   ],
   "source": [
    "# Convert 'startYear' to integer for filtering\n",
    "genres = genres.withColumn('startYear', genres['startYear'].cast('int'))\n",
    "\n",
    "# Join the DataFrames: Movie Ratings and Genres\n",
    "joined_df = movie_ratings.join(genres, 'tconst')\n",
    "\n",
    "# Filter for movies released after 2015 and titleType is \"movie\"\n",
    "filtered_df = joined_df.filter((genres.startYear > 2015) & (genres.titleType == \"movie\"))\n",
    "\n",
    "# Select relevant columns\n",
    "result_df = filtered_df.select('primaryTitle', 'startYear', 'averageRating', 'numVotes')\n",
    "\n",
    "# Order by average rating and vote count in descending order\n",
    "result_df = result_df.orderBy(desc('averageRating'), desc('numVotes'))\n",
    "\n",
    "# Show the top 10 highest-rated movies\n",
    "result_df.show(10, truncate=False)"
   ]
  },
  {
   "cell_type": "markdown",
   "id": "3dd17129-4a69-419e-b7ac-39d4de4c09b9",
   "metadata": {},
   "source": [
    "#### **Question: What are the top 5 genres for short films by the average ratings?**"
   ]
  },
  {
   "cell_type": "code",
   "execution_count": 40,
   "id": "beec8adc-fcb7-4c81-a96a-623f6a5df973",
   "metadata": {
    "execution": {
     "iopub.execute_input": "2023-11-27T23:29:23.562114Z",
     "iopub.status.busy": "2023-11-27T23:29:23.561795Z",
     "iopub.status.idle": "2023-11-27T23:29:32.854109Z",
     "shell.execute_reply": "2023-11-27T23:29:32.853357Z",
     "shell.execute_reply.started": "2023-11-27T23:29:23.562079Z"
    },
    "tags": []
   },
   "outputs": [
    {
     "data": {
      "application/vnd.jupyter.widget-view+json": {
       "model_id": "4de722bb18c841bd8b259d9d44c1b6bb",
       "version_major": 2,
       "version_minor": 0
      },
      "text/plain": [
       "VBox()"
      ]
     },
     "metadata": {},
     "output_type": "display_data"
    },
    {
     "data": {
      "application/vnd.jupyter.widget-view+json": {
       "model_id": "",
       "version_major": 2,
       "version_minor": 0
      },
      "text/plain": [
       "FloatProgress(value=0.0, bar_style='info', description='Progress:', layout=Layout(height='25px', width='50%'),…"
      ]
     },
     "metadata": {},
     "output_type": "display_data"
    },
    {
     "name": "stdout",
     "output_type": "stream",
     "text": [
      "+---------+-----------------+\n",
      "|genre    |avgRating        |\n",
      "+---------+-----------------+\n",
      "|Game-Show|9.9              |\n",
      "|Talk-Show|7.276923076923077|\n",
      "|Biography|7.237576219512196|\n",
      "|Mystery  |7.171493803000654|\n",
      "|Crime    |7.155333998005983|\n",
      "+---------+-----------------+\n",
      "only showing top 5 rows"
     ]
    }
   ],
   "source": [
    "# Join the DataFrames\n",
    "joined_df = movie_ratings.join(genres, 'tconst')\n",
    "\n",
    "# Filter for titleType is short\n",
    "joined_df = joined_df.filter(genres.titleType == \"short\")\n",
    "\n",
    "# Select relevant columns\n",
    "result_df = joined_df.select('genres', 'averageRating')\n",
    "\n",
    "# Explode the genres array column\n",
    "result_df = result_df.withColumn('genre', explode(split(result_df['genres'], ',')))\n",
    "\n",
    "# Group by genre and calculate the average rating\n",
    "avg_rating_by_genre = result_df.groupBy('genre').agg({'averageRating': 'mean'}).withColumnRenamed('avg(averageRating)', 'avgRating')\n",
    "\n",
    "# Order by average rating in descending order\n",
    "avg_rating_by_genre = avg_rating_by_genre.orderBy(desc('avgRating'))\n",
    "\n",
    "# Show the top 5 genres by highest average rating\n",
    "avg_rating_by_genre.show(5, truncate=False)"
   ]
  },
  {
   "cell_type": "markdown",
   "id": "1184fcf4-a55e-48a7-9dae-6821408ad280",
   "metadata": {},
   "source": [
    "#### **Which genres have the highest count of top-rated movies, defined as those within the top 25th percentile of ratings?**"
   ]
  },
  {
   "cell_type": "code",
   "execution_count": 41,
   "id": "962f37ff-86a9-49fa-8f40-d7aaa26e05f2",
   "metadata": {
    "execution": {
     "iopub.execute_input": "2023-11-27T23:29:32.855497Z",
     "iopub.status.busy": "2023-11-27T23:29:32.855247Z",
     "iopub.status.idle": "2023-11-27T23:29:42.131382Z",
     "shell.execute_reply": "2023-11-27T23:29:42.130691Z",
     "shell.execute_reply.started": "2023-11-27T23:29:32.855474Z"
    },
    "tags": []
   },
   "outputs": [
    {
     "data": {
      "application/vnd.jupyter.widget-view+json": {
       "model_id": "309c06d3d5c74e4694568e354a4f434c",
       "version_major": 2,
       "version_minor": 0
      },
      "text/plain": [
       "VBox()"
      ]
     },
     "metadata": {},
     "output_type": "display_data"
    },
    {
     "data": {
      "application/vnd.jupyter.widget-view+json": {
       "model_id": "",
       "version_major": 2,
       "version_minor": 0
      },
      "text/plain": [
       "FloatProgress(value=0.0, bar_style='info', description='Progress:', layout=Layout(height='25px', width='50%'),…"
      ]
     },
     "metadata": {},
     "output_type": "display_data"
    }
   ],
   "source": [
    "# Convert 'averageRating' to DoubleType\n",
    "movie_ratings = movie_ratings.withColumn('averageRating', movie_ratings['averageRating'].cast(DoubleType()))\n",
    "\n",
    "# Join the DataFrames\n",
    "joined_df = movie_ratings.join(genres, 'tconst')\n",
    "\n",
    "# Filter for titleType is \"movie\"\n",
    "joined_df = joined_df.filter(genres.titleType == \"movie\")\n",
    "\n",
    "# Calculate the 25th percentile rating\n",
    "percentile_25 = joined_df.approxQuantile('averageRating', [0.25], 0.01)[0]\n",
    "\n",
    "# Create a new column to categorize movies as top-rated or not\n",
    "joined_df = joined_df.withColumn('isTopRated', expr(f'averageRating >= {percentile_25}').cast('int'))\n",
    "\n",
    "# Filter out rows with \\N in the 'genres' column\n",
    "joined_df = joined_df.filter(joined_df['genres'] != '\\\\N')\n",
    "\n",
    "# Group by genre and count the number of top-rated movies\n",
    "genre_counts = joined_df.groupBy('genres').agg({'isTopRated': 'sum'}).withColumnRenamed('sum(isTopRated)', 'topRatedCount').orderBy(desc('topRatedCount'))"
   ]
  },
  {
   "cell_type": "code",
   "execution_count": 42,
   "id": "396107ee-acf2-48a8-9b0d-2e8831d060ec",
   "metadata": {
    "execution": {
     "iopub.execute_input": "2023-11-27T23:29:42.132599Z",
     "iopub.status.busy": "2023-11-27T23:29:42.132372Z",
     "iopub.status.idle": "2023-11-27T23:29:51.431272Z",
     "shell.execute_reply": "2023-11-27T23:29:51.430458Z",
     "shell.execute_reply.started": "2023-11-27T23:29:42.132576Z"
    },
    "tags": []
   },
   "outputs": [
    {
     "data": {
      "application/vnd.jupyter.widget-view+json": {
       "model_id": "7c17c24a55c84c8f9e78c3d495a98b0c",
       "version_major": 2,
       "version_minor": 0
      },
      "text/plain": [
       "VBox()"
      ]
     },
     "metadata": {},
     "output_type": "display_data"
    },
    {
     "data": {
      "application/vnd.jupyter.widget-view+json": {
       "model_id": "",
       "version_major": 2,
       "version_minor": 0
      },
      "text/plain": [
       "FloatProgress(value=0.0, bar_style='info', description='Progress:', layout=Layout(height='25px', width='50%'),…"
      ]
     },
     "metadata": {},
     "output_type": "display_data"
    },
    {
     "data": {
      "image/png": "[encoded data removed]",
      "text/plain": [
       "<IPython.core.display.Image object>"
      ]
     },
     "metadata": {},
     "output_type": "display_data"
    }
   ],
   "source": [
    "# Visualize the result using matplotlib for the top 10 genres\n",
    "\n",
    "top_10_genre_counts_pd = genre_counts.limit(10).toPandas()\n",
    "plt.figure(figsize=(12, 6))\n",
    "plt.bar(top_10_genre_counts_pd['genres'], top_10_genre_counts_pd['topRatedCount'], color='firebrick')\n",
    "plt.xlabel('Genres')\n",
    "plt.ylabel('Number of Top Rated Movies (Top 25th Percentile)')\n",
    "plt.title('Top 10 Genres with Highest Count of Top Rated Movies (Top 25th Percentile)')\n",
    "plt.xticks(rotation=45, ha='right')\n",
    "plt.tight_layout()\n",
    "plt.show()\n",
    "\n",
    "%matplot plt"
   ]
  },
  {
   "cell_type": "markdown",
   "id": "77fb28ba-3c2b-412b-8068-5a7343a12bfd",
   "metadata": {},
   "source": [
    "#### **Among the actors and actresses in the dataset, which 20 film professionals have the highest number of movies, and what is the count of films for each of them?**"
   ]
  },
  {
   "cell_type": "code",
   "execution_count": 43,
   "id": "cbcb76a8-d047-4ee5-8f19-5b9b3ac1e618",
   "metadata": {
    "execution": {
     "iopub.execute_input": "2023-11-27T23:29:51.432636Z",
     "iopub.status.busy": "2023-11-27T23:29:51.432363Z",
     "iopub.status.idle": "2023-11-27T23:30:56.872089Z",
     "shell.execute_reply": "2023-11-27T23:30:56.871253Z",
     "shell.execute_reply.started": "2023-11-27T23:29:51.432601Z"
    },
    "tags": []
   },
   "outputs": [
    {
     "data": {
      "application/vnd.jupyter.widget-view+json": {
       "model_id": "0d96d6bb3b0944a6a41b5512ccc4caea",
       "version_major": 2,
       "version_minor": 0
      },
      "text/plain": [
       "VBox()"
      ]
     },
     "metadata": {},
     "output_type": "display_data"
    },
    {
     "data": {
      "application/vnd.jupyter.widget-view+json": {
       "model_id": "",
       "version_major": 2,
       "version_minor": 0
      },
      "text/plain": [
       "FloatProgress(value=0.0, bar_style='info', description='Progress:', layout=Layout(height='25px', width='50%'),…"
      ]
     },
     "metadata": {},
     "output_type": "display_data"
    },
    {
     "name": "stdout",
     "output_type": "stream",
     "text": [
      "+------------------+---------+\n",
      "|primaryName       |filmCount|\n",
      "+------------------+---------+\n",
      "|Brahmanandam      |798      |\n",
      "|Adoor Bhasi       |586      |\n",
      "|Matsunosuke Onoe  |565      |\n",
      "|Eddie Garcia      |543      |\n",
      "|Kinya Ogawa       |440      |\n",
      "|Prem Nazir        |439      |\n",
      "|Sung-il Shin      |411      |\n",
      "|Masayoshi Nogami  |399      |\n",
      "|Paquito Diaz      |391      |\n",
      "|Ron Jeremy        |389      |\n",
      "|Mammootty         |383      |\n",
      "|Aachi Manorama    |355      |\n",
      "|Bahadur           |348      |\n",
      "|Mohanlal          |346      |\n",
      "|Bülent Oran       |331      |\n",
      "|Mithun Chakraborty|331      |\n",
      "|Shivaji Ganesan   |323      |\n",
      "|Yutaka Ikejima    |320      |\n",
      "|Sultan Rahi       |316      |\n",
      "|Tom Byron         |313      |\n",
      "+------------------+---------+"
     ]
    }
   ],
   "source": [
    "# Add filter to actors DataFrame for primaryProfession being actor or actress\n",
    "actors_filtered = actors.filter((actors.primaryProfession.contains(\"actor\")) | (actors.primaryProfession.contains(\"actress\")))\n",
    "\n",
    "# Join the DataFrames\n",
    "joined_df = movie_actors.join(actors_filtered, 'nconst')\n",
    "\n",
    "# Add filter to genres DataFrame for titleType being movie\n",
    "genres_filtered = genres.filter(genres.titleType == \"movie\")\n",
    "\n",
    "# Join the filtered genres DataFrame with the already joined DataFrame\n",
    "joined_df = joined_df.join(genres_filtered, 'tconst')\n",
    "\n",
    "# Group by actor and count the number of films\n",
    "actor_film_counts = joined_df.groupBy('primaryName').count().withColumnRenamed('count', 'filmCount')\n",
    "\n",
    "# Order by film count in descending order\n",
    "actor_film_counts = actor_film_counts.orderBy(desc('filmCount'))\n",
    "\n",
    "# Show the top 20 actors with the highest number of films\n",
    "top_20_actors = actor_film_counts.limit(20)\n",
    "top_20_actors.show(truncate=False)"
   ]
  },
  {
   "cell_type": "markdown",
   "id": "beb84173-74bf-46f8-a97e-46ffe1c23750",
   "metadata": {
    "execution": {
     "iopub.execute_input": "2023-11-26T01:05:04.884920Z",
     "iopub.status.busy": "2023-11-26T01:05:04.884553Z",
     "iopub.status.idle": "2023-11-26T01:05:04.944933Z",
     "shell.execute_reply": "2023-11-26T01:05:04.944155Z",
     "shell.execute_reply.started": "2023-11-26T01:05:04.884891Z"
    }
   },
   "source": [
    "#### **Visualize the 'Top 20 Actors with the Highest Number of Films'**"
   ]
  },
  {
   "cell_type": "code",
   "execution_count": 44,
   "id": "5966b992-81ef-4527-8887-dac6e961d1df",
   "metadata": {
    "execution": {
     "iopub.execute_input": "2023-11-27T23:30:56.873710Z",
     "iopub.status.busy": "2023-11-27T23:30:56.873391Z",
     "iopub.status.idle": "2023-11-27T23:32:00.339312Z",
     "shell.execute_reply": "2023-11-27T23:32:00.338532Z",
     "shell.execute_reply.started": "2023-11-27T23:30:56.873676Z"
    },
    "tags": []
   },
   "outputs": [
    {
     "data": {
      "application/vnd.jupyter.widget-view+json": {
       "model_id": "84bd43044b94427faaf7855656bcba6e",
       "version_major": 2,
       "version_minor": 0
      },
      "text/plain": [
       "VBox()"
      ]
     },
     "metadata": {},
     "output_type": "display_data"
    },
    {
     "data": {
      "application/vnd.jupyter.widget-view+json": {
       "model_id": "",
       "version_major": 2,
       "version_minor": 0
      },
      "text/plain": [
       "FloatProgress(value=0.0, bar_style='info', description='Progress:', layout=Layout(height='25px', width='50%'),…"
      ]
     },
     "metadata": {},
     "output_type": "display_data"
    },
    {
     "data": {
      "image/png": "[encoded data removed]",
      "text/plain": [
       "<IPython.core.display.Image object>"
      ]
     },
     "metadata": {},
     "output_type": "display_data"
    }
   ],
   "source": [
    "# Define a professional color palette (Set3)\n",
    "colors = plt.cm.Set3.colors\n",
    "\n",
    "# Convert to Pandas for easier pie chart plotting\n",
    "top_20_actors_pd = top_20_actors.toPandas()\n",
    "\n",
    "# Plotting a pie chart with the professional color palette\n",
    "plt.figure(figsize=(10, 10))\n",
    "plt.pie(top_20_actors_pd['filmCount'], labels=top_20_actors_pd['primaryName'], autopct='%1.1f%%', startangle=90, colors=colors)\n",
    "plt.title('Top 20 Actors with the Highest Number of Films')\n",
    "plt.show()\n",
    "\n",
    "%matplot plt"
   ]
  },
  {
   "cell_type": "markdown",
   "id": "0498a3c1-49df-4873-97c3-9c532ca0a8fd",
   "metadata": {},
   "source": [
    "#### **What Patterns Emerge from the Evolution of Movie Ratings Over Decades?**"
   ]
  },
  {
   "cell_type": "code",
   "execution_count": 45,
   "id": "660a8322-f3ba-4c23-914c-00e8e341a807",
   "metadata": {
    "execution": {
     "iopub.execute_input": "2023-11-27T23:32:00.340906Z",
     "iopub.status.busy": "2023-11-27T23:32:00.340635Z",
     "iopub.status.idle": "2023-11-27T23:32:00.587243Z",
     "shell.execute_reply": "2023-11-27T23:32:00.586433Z",
     "shell.execute_reply.started": "2023-11-27T23:32:00.340881Z"
    },
    "tags": []
   },
   "outputs": [
    {
     "data": {
      "application/vnd.jupyter.widget-view+json": {
       "model_id": "22b84957a41a4bc1845e7b6e346decb8",
       "version_major": 2,
       "version_minor": 0
      },
      "text/plain": [
       "VBox()"
      ]
     },
     "metadata": {},
     "output_type": "display_data"
    },
    {
     "data": {
      "application/vnd.jupyter.widget-view+json": {
       "model_id": "",
       "version_major": 2,
       "version_minor": 0
      },
      "text/plain": [
       "FloatProgress(value=0.0, bar_style='info', description='Progress:', layout=Layout(height='25px', width='50%'),…"
      ]
     },
     "metadata": {},
     "output_type": "display_data"
    }
   ],
   "source": [
    "# Define conditions for classifying movies into decades\n",
    "conditions = [\n",
    "    (col('startYear') < 1980),\n",
    "    ((col('startYear') >= 1980) & (col('startYear') < 1990)),\n",
    "    ((col('startYear') >= 1990) & (col('startYear') < 2000)),\n",
    "    ((col('startYear') >= 2000) & (col('startYear') < 2010)),\n",
    "    ((col('startYear') >= 2010) & (col('startYear') < 2023))\n",
    "]\n",
    "\n",
    "# Define corresponding decade labels\n",
    "decade_labels = ['Pre 80s', '1980 to 1990', '1990 to 2000', '2000 to 2010', '2010 to 2023']\n",
    "\n",
    "# Add 'decade' column based on the conditions\n",
    "genres_decades = genres.withColumn('decade', when(conditions[0], decade_labels[0])\n",
    "                                  .when(conditions[1], decade_labels[1])\n",
    "                                  .when(conditions[2], decade_labels[2])\n",
    "                                  .when(conditions[3], decade_labels[3])\n",
    "                                  .when(conditions[4], decade_labels[4]))\n",
    "\n",
    "# Join with movie_ratings\n",
    "joined_df = movie_ratings.join(genres_decades, 'tconst')\n",
    "\n",
    "# Filter out rows with null values in 'startYear' and 'averageRating'\n",
    "joined_df = joined_df.filter((col('startYear').isNotNull()) & (col('averageRating').isNotNull()))\n",
    "\n",
    "# Group by decade and calculate average rating\n",
    "avg_rating_by_decade = joined_df.groupBy('decade').agg({'averageRating': 'mean'}).withColumnRenamed('avg(averageRating)', 'avgRating')"
   ]
  },
  {
   "cell_type": "code",
   "execution_count": 46,
   "id": "3686d36f-c1c5-4353-bb0e-6b6411e68473",
   "metadata": {
    "execution": {
     "iopub.execute_input": "2023-11-27T23:32:00.588552Z",
     "iopub.status.busy": "2023-11-27T23:32:00.588289Z",
     "iopub.status.idle": "2023-11-27T23:32:11.871416Z",
     "shell.execute_reply": "2023-11-27T23:32:11.870637Z",
     "shell.execute_reply.started": "2023-11-27T23:32:00.588518Z"
    },
    "tags": []
   },
   "outputs": [
    {
     "data": {
      "application/vnd.jupyter.widget-view+json": {
       "model_id": "889e9412b0be4d4ea25c8b4d5bf7b6e0",
       "version_major": 2,
       "version_minor": 0
      },
      "text/plain": [
       "VBox()"
      ]
     },
     "metadata": {},
     "output_type": "display_data"
    },
    {
     "data": {
      "application/vnd.jupyter.widget-view+json": {
       "model_id": "",
       "version_major": 2,
       "version_minor": 0
      },
      "text/plain": [
       "FloatProgress(value=0.0, bar_style='info', description='Progress:', layout=Layout(height='25px', width='50%'),…"
      ]
     },
     "metadata": {},
     "output_type": "display_data"
    },
    {
     "data": {
      "image/png": "[encoded data removed]",
      "text/plain": [
       "<IPython.core.display.Image object>"
      ]
     },
     "metadata": {},
     "output_type": "display_data"
    }
   ],
   "source": [
    "# Convert to Pandas DataFrame for plotting\n",
    "pd_avg_rating_by_decade = avg_rating_by_decade.toPandas()\n",
    "\n",
    "# Define the order of decades\n",
    "decade_order = ['Pre 80s', '1980 to 1990', '1990 to 2000', '2000 to 2010', '2010 to 2023']\n",
    "\n",
    "# Sort the DataFrame by decade and set the order\n",
    "pd_avg_rating_by_decade['decade'] = pd.Categorical(pd_avg_rating_by_decade['decade'], categories=decade_order, ordered=True)\n",
    "pd_avg_rating_by_decade = pd_avg_rating_by_decade.sort_values('decade')\n",
    "\n",
    "# Plotting with enhanced aesthetics\n",
    "plt.figure(figsize=(10, 6))\n",
    "plt.plot(pd_avg_rating_by_decade['decade'], pd_avg_rating_by_decade['avgRating'], marker='o', linestyle='-', color='orangered', linewidth=2)\n",
    "plt.xlabel('Decade', fontsize=14)\n",
    "plt.ylabel('Average Rating', fontsize=14)\n",
    "plt.title('Average Rating of Movies by Decade', fontsize=16)\n",
    "plt.xticks(rotation=45)\n",
    "plt.grid(True)\n",
    "plt.tight_layout()\n",
    "plt.show()\n",
    "\n",
    "%matplot plt"
   ]
  },
  {
   "cell_type": "markdown",
   "id": "38cd4473-b1e2-4e2c-88cc-8e9cda61fec2",
   "metadata": {},
   "source": [
    "##### **The average movie ratings exhibit a discernible upward trend, reaching their peak in recent decades (2010 to 2023). This phenomenon may signify either a positive shift in audience satisfaction and cinematic quality over time or a more recent trend of inflation in ratings to attract audiences.**"
   ]
  },
  {
   "cell_type": "code",
   "execution_count": null,
   "id": "a5ba530e-f5d6-4bca-9316-390c659862b4",
   "metadata": {},
   "outputs": [],
   "source": []
  }
 ],
 "metadata": {
  "kernelspec": {
   "display_name": "PySpark",
   "language": "python",
   "name": "pysparkkernel"
  },
  "language_info": {
   "codemirror_mode": {
    "name": "python",
    "version": 3
   },
   "file_extension": ".py",
   "mimetype": "text/x-python",
   "name": "pyspark",
   "pygments_lexer": "python3"
  }
 },
 "nbformat": 4,
 "nbformat_minor": 5
}
